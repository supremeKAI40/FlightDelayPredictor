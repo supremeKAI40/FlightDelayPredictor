{
 "cells": [
  {
   "cell_type": "code",
   "execution_count": 1,
   "metadata": {
    "_cell_guid": "b1076dfc-b9ad-4769-8c92-a6c4dae69d19",
    "_uuid": "8f2839f25d086af736a60e9eeb907d3b93b6e0e5",
    "execution": {
     "iopub.execute_input": "2021-01-11T16:56:31.992489Z",
     "iopub.status.busy": "2021-01-11T16:56:31.991874Z",
     "iopub.status.idle": "2021-01-11T16:56:32.005668Z",
     "shell.execute_reply": "2021-01-11T16:56:32.004785Z"
    },
    "papermill": {
     "duration": 0.042868,
     "end_time": "2021-01-11T16:56:32.005822",
     "exception": false,
     "start_time": "2021-01-11T16:56:31.962954",
     "status": "completed"
    },
    "tags": []
   },
   "outputs": [
    {
     "name": "stdout",
     "output_type": "stream",
     "text": [
      "/kaggle/input/flight-delays/airports.csv\n",
      "/kaggle/input/flight-delays/airlines.csv\n",
      "/kaggle/input/flight-delays/flights.csv\n"
     ]
    }
   ],
   "source": [
    "# This Python 3 environment comes with many helpful analytics libraries installed\n",
    "# It is defined by the kaggle/python Docker image: https://github.com/kaggle/docker-python\n",
    "# For example, here's several helpful packages to load\n",
    "\n",
    "import numpy as np # linear algebra\n",
    "import pandas as pd # data processing, CSV file I/O (e.g. pd.read_csv)\n",
    "\n",
    "# Input data files are available in the read-only \"../input/\" directory\n",
    "# For example, running this (by clicking run or pressing Shift+Enter) will list all files under the input directory\n",
    "\n",
    "import os\n",
    "for dirname, _, filenames in os.walk('/kaggle/input'):\n",
    "    for filename in filenames:\n",
    "        print(os.path.join(dirname, filename))\n",
    "\n",
    "# You can write up to 20GB to the current directory (/kaggle/working/) that gets preserved as output when you create a version using \"Save & Run All\" \n",
    "# You can also write temporary files to /kaggle/temp/, but they won't be saved outside of the current session"
   ]
  },
  {
   "cell_type": "code",
   "execution_count": 2,
   "metadata": {
    "_cell_guid": "79c7e3d0-c299-4dcb-8224-4455121ee9b0",
    "_uuid": "d629ff2d2480ee46fbb7e2d37f6b5fab8052498a",
    "execution": {
     "iopub.execute_input": "2021-01-11T16:56:32.066042Z",
     "iopub.status.busy": "2021-01-11T16:56:32.065187Z",
     "iopub.status.idle": "2021-01-11T16:56:33.566805Z",
     "shell.execute_reply": "2021-01-11T16:56:33.566193Z"
    },
    "papermill": {
     "duration": 1.533749,
     "end_time": "2021-01-11T16:56:33.566919",
     "exception": false,
     "start_time": "2021-01-11T16:56:32.033170",
     "status": "completed"
    },
    "tags": []
   },
   "outputs": [],
   "source": [
    "import pandas as pd\n",
    "import seaborn as sns\n",
    "import matplotlib.pyplot as plt\n",
    "from sklearn.model_selection import train_test_split\n",
    "from sklearn.preprocessing import StandardScaler\n",
    "from sklearn.tree import DecisionTreeClassifier\n",
    "from sklearn import metrics\n",
    "from sklearn.metrics import roc_auc_score\n",
    "from sklearn.metrics import classification_report, confusion_matrix, accuracy_score"
   ]
  },
  {
   "cell_type": "markdown",
   "metadata": {
    "papermill": {
     "duration": 0.025639,
     "end_time": "2021-01-11T16:56:33.618847",
     "exception": false,
     "start_time": "2021-01-11T16:56:33.593208",
     "status": "completed"
    },
    "tags": []
   },
   "source": [
    "# Reading and PreProcessing Dataset"
   ]
  },
  {
   "cell_type": "code",
   "execution_count": 3,
   "metadata": {
    "execution": {
     "iopub.execute_input": "2021-01-11T16:56:33.675811Z",
     "iopub.status.busy": "2021-01-11T16:56:33.675155Z",
     "iopub.status.idle": "2021-01-11T16:56:57.282613Z",
     "shell.execute_reply": "2021-01-11T16:56:57.282003Z"
    },
    "papermill": {
     "duration": 23.638651,
     "end_time": "2021-01-11T16:56:57.282741",
     "exception": false,
     "start_time": "2021-01-11T16:56:33.644090",
     "status": "completed"
    },
    "tags": []
   },
   "outputs": [
    {
     "data": {
      "text/html": [
       "<div>\n",
       "<style scoped>\n",
       "    .dataframe tbody tr th:only-of-type {\n",
       "        vertical-align: middle;\n",
       "    }\n",
       "\n",
       "    .dataframe tbody tr th {\n",
       "        vertical-align: top;\n",
       "    }\n",
       "\n",
       "    .dataframe thead th {\n",
       "        text-align: right;\n",
       "    }\n",
       "</style>\n",
       "<table border=\"1\" class=\"dataframe\">\n",
       "  <thead>\n",
       "    <tr style=\"text-align: right;\">\n",
       "      <th></th>\n",
       "      <th>YEAR</th>\n",
       "      <th>MONTH</th>\n",
       "      <th>DAY</th>\n",
       "      <th>DAY_OF_WEEK</th>\n",
       "      <th>AIRLINE</th>\n",
       "      <th>FLIGHT_NUMBER</th>\n",
       "      <th>TAIL_NUMBER</th>\n",
       "      <th>ORIGIN_AIRPORT</th>\n",
       "      <th>DESTINATION_AIRPORT</th>\n",
       "      <th>SCHEDULED_DEPARTURE</th>\n",
       "      <th>...</th>\n",
       "      <th>ARRIVAL_TIME</th>\n",
       "      <th>ARRIVAL_DELAY</th>\n",
       "      <th>DIVERTED</th>\n",
       "      <th>CANCELLED</th>\n",
       "      <th>CANCELLATION_REASON</th>\n",
       "      <th>AIR_SYSTEM_DELAY</th>\n",
       "      <th>SECURITY_DELAY</th>\n",
       "      <th>AIRLINE_DELAY</th>\n",
       "      <th>LATE_AIRCRAFT_DELAY</th>\n",
       "      <th>WEATHER_DELAY</th>\n",
       "    </tr>\n",
       "  </thead>\n",
       "  <tbody>\n",
       "    <tr>\n",
       "      <th>0</th>\n",
       "      <td>2015</td>\n",
       "      <td>1</td>\n",
       "      <td>1</td>\n",
       "      <td>4</td>\n",
       "      <td>AS</td>\n",
       "      <td>98</td>\n",
       "      <td>N407AS</td>\n",
       "      <td>ANC</td>\n",
       "      <td>SEA</td>\n",
       "      <td>5</td>\n",
       "      <td>...</td>\n",
       "      <td>408.0</td>\n",
       "      <td>-22.0</td>\n",
       "      <td>0</td>\n",
       "      <td>0</td>\n",
       "      <td>NaN</td>\n",
       "      <td>NaN</td>\n",
       "      <td>NaN</td>\n",
       "      <td>NaN</td>\n",
       "      <td>NaN</td>\n",
       "      <td>NaN</td>\n",
       "    </tr>\n",
       "    <tr>\n",
       "      <th>1</th>\n",
       "      <td>2015</td>\n",
       "      <td>1</td>\n",
       "      <td>1</td>\n",
       "      <td>4</td>\n",
       "      <td>AA</td>\n",
       "      <td>2336</td>\n",
       "      <td>N3KUAA</td>\n",
       "      <td>LAX</td>\n",
       "      <td>PBI</td>\n",
       "      <td>10</td>\n",
       "      <td>...</td>\n",
       "      <td>741.0</td>\n",
       "      <td>-9.0</td>\n",
       "      <td>0</td>\n",
       "      <td>0</td>\n",
       "      <td>NaN</td>\n",
       "      <td>NaN</td>\n",
       "      <td>NaN</td>\n",
       "      <td>NaN</td>\n",
       "      <td>NaN</td>\n",
       "      <td>NaN</td>\n",
       "    </tr>\n",
       "    <tr>\n",
       "      <th>2</th>\n",
       "      <td>2015</td>\n",
       "      <td>1</td>\n",
       "      <td>1</td>\n",
       "      <td>4</td>\n",
       "      <td>US</td>\n",
       "      <td>840</td>\n",
       "      <td>N171US</td>\n",
       "      <td>SFO</td>\n",
       "      <td>CLT</td>\n",
       "      <td>20</td>\n",
       "      <td>...</td>\n",
       "      <td>811.0</td>\n",
       "      <td>5.0</td>\n",
       "      <td>0</td>\n",
       "      <td>0</td>\n",
       "      <td>NaN</td>\n",
       "      <td>NaN</td>\n",
       "      <td>NaN</td>\n",
       "      <td>NaN</td>\n",
       "      <td>NaN</td>\n",
       "      <td>NaN</td>\n",
       "    </tr>\n",
       "    <tr>\n",
       "      <th>3</th>\n",
       "      <td>2015</td>\n",
       "      <td>1</td>\n",
       "      <td>1</td>\n",
       "      <td>4</td>\n",
       "      <td>AA</td>\n",
       "      <td>258</td>\n",
       "      <td>N3HYAA</td>\n",
       "      <td>LAX</td>\n",
       "      <td>MIA</td>\n",
       "      <td>20</td>\n",
       "      <td>...</td>\n",
       "      <td>756.0</td>\n",
       "      <td>-9.0</td>\n",
       "      <td>0</td>\n",
       "      <td>0</td>\n",
       "      <td>NaN</td>\n",
       "      <td>NaN</td>\n",
       "      <td>NaN</td>\n",
       "      <td>NaN</td>\n",
       "      <td>NaN</td>\n",
       "      <td>NaN</td>\n",
       "    </tr>\n",
       "    <tr>\n",
       "      <th>4</th>\n",
       "      <td>2015</td>\n",
       "      <td>1</td>\n",
       "      <td>1</td>\n",
       "      <td>4</td>\n",
       "      <td>AS</td>\n",
       "      <td>135</td>\n",
       "      <td>N527AS</td>\n",
       "      <td>SEA</td>\n",
       "      <td>ANC</td>\n",
       "      <td>25</td>\n",
       "      <td>...</td>\n",
       "      <td>259.0</td>\n",
       "      <td>-21.0</td>\n",
       "      <td>0</td>\n",
       "      <td>0</td>\n",
       "      <td>NaN</td>\n",
       "      <td>NaN</td>\n",
       "      <td>NaN</td>\n",
       "      <td>NaN</td>\n",
       "      <td>NaN</td>\n",
       "      <td>NaN</td>\n",
       "    </tr>\n",
       "    <tr>\n",
       "      <th>...</th>\n",
       "      <td>...</td>\n",
       "      <td>...</td>\n",
       "      <td>...</td>\n",
       "      <td>...</td>\n",
       "      <td>...</td>\n",
       "      <td>...</td>\n",
       "      <td>...</td>\n",
       "      <td>...</td>\n",
       "      <td>...</td>\n",
       "      <td>...</td>\n",
       "      <td>...</td>\n",
       "      <td>...</td>\n",
       "      <td>...</td>\n",
       "      <td>...</td>\n",
       "      <td>...</td>\n",
       "      <td>...</td>\n",
       "      <td>...</td>\n",
       "      <td>...</td>\n",
       "      <td>...</td>\n",
       "      <td>...</td>\n",
       "      <td>...</td>\n",
       "    </tr>\n",
       "    <tr>\n",
       "      <th>5819074</th>\n",
       "      <td>2015</td>\n",
       "      <td>12</td>\n",
       "      <td>31</td>\n",
       "      <td>4</td>\n",
       "      <td>B6</td>\n",
       "      <td>688</td>\n",
       "      <td>N657JB</td>\n",
       "      <td>LAX</td>\n",
       "      <td>BOS</td>\n",
       "      <td>2359</td>\n",
       "      <td>...</td>\n",
       "      <td>753.0</td>\n",
       "      <td>-26.0</td>\n",
       "      <td>0</td>\n",
       "      <td>0</td>\n",
       "      <td>NaN</td>\n",
       "      <td>NaN</td>\n",
       "      <td>NaN</td>\n",
       "      <td>NaN</td>\n",
       "      <td>NaN</td>\n",
       "      <td>NaN</td>\n",
       "    </tr>\n",
       "    <tr>\n",
       "      <th>5819075</th>\n",
       "      <td>2015</td>\n",
       "      <td>12</td>\n",
       "      <td>31</td>\n",
       "      <td>4</td>\n",
       "      <td>B6</td>\n",
       "      <td>745</td>\n",
       "      <td>N828JB</td>\n",
       "      <td>JFK</td>\n",
       "      <td>PSE</td>\n",
       "      <td>2359</td>\n",
       "      <td>...</td>\n",
       "      <td>430.0</td>\n",
       "      <td>-16.0</td>\n",
       "      <td>0</td>\n",
       "      <td>0</td>\n",
       "      <td>NaN</td>\n",
       "      <td>NaN</td>\n",
       "      <td>NaN</td>\n",
       "      <td>NaN</td>\n",
       "      <td>NaN</td>\n",
       "      <td>NaN</td>\n",
       "    </tr>\n",
       "    <tr>\n",
       "      <th>5819076</th>\n",
       "      <td>2015</td>\n",
       "      <td>12</td>\n",
       "      <td>31</td>\n",
       "      <td>4</td>\n",
       "      <td>B6</td>\n",
       "      <td>1503</td>\n",
       "      <td>N913JB</td>\n",
       "      <td>JFK</td>\n",
       "      <td>SJU</td>\n",
       "      <td>2359</td>\n",
       "      <td>...</td>\n",
       "      <td>432.0</td>\n",
       "      <td>-8.0</td>\n",
       "      <td>0</td>\n",
       "      <td>0</td>\n",
       "      <td>NaN</td>\n",
       "      <td>NaN</td>\n",
       "      <td>NaN</td>\n",
       "      <td>NaN</td>\n",
       "      <td>NaN</td>\n",
       "      <td>NaN</td>\n",
       "    </tr>\n",
       "    <tr>\n",
       "      <th>5819077</th>\n",
       "      <td>2015</td>\n",
       "      <td>12</td>\n",
       "      <td>31</td>\n",
       "      <td>4</td>\n",
       "      <td>B6</td>\n",
       "      <td>333</td>\n",
       "      <td>N527JB</td>\n",
       "      <td>MCO</td>\n",
       "      <td>SJU</td>\n",
       "      <td>2359</td>\n",
       "      <td>...</td>\n",
       "      <td>330.0</td>\n",
       "      <td>-10.0</td>\n",
       "      <td>0</td>\n",
       "      <td>0</td>\n",
       "      <td>NaN</td>\n",
       "      <td>NaN</td>\n",
       "      <td>NaN</td>\n",
       "      <td>NaN</td>\n",
       "      <td>NaN</td>\n",
       "      <td>NaN</td>\n",
       "    </tr>\n",
       "    <tr>\n",
       "      <th>5819078</th>\n",
       "      <td>2015</td>\n",
       "      <td>12</td>\n",
       "      <td>31</td>\n",
       "      <td>4</td>\n",
       "      <td>B6</td>\n",
       "      <td>839</td>\n",
       "      <td>N534JB</td>\n",
       "      <td>JFK</td>\n",
       "      <td>BQN</td>\n",
       "      <td>2359</td>\n",
       "      <td>...</td>\n",
       "      <td>442.0</td>\n",
       "      <td>2.0</td>\n",
       "      <td>0</td>\n",
       "      <td>0</td>\n",
       "      <td>NaN</td>\n",
       "      <td>NaN</td>\n",
       "      <td>NaN</td>\n",
       "      <td>NaN</td>\n",
       "      <td>NaN</td>\n",
       "      <td>NaN</td>\n",
       "    </tr>\n",
       "  </tbody>\n",
       "</table>\n",
       "<p>5819079 rows × 31 columns</p>\n",
       "</div>"
      ],
      "text/plain": [
       "         YEAR  MONTH  DAY  DAY_OF_WEEK AIRLINE  FLIGHT_NUMBER TAIL_NUMBER  \\\n",
       "0        2015      1    1            4      AS             98      N407AS   \n",
       "1        2015      1    1            4      AA           2336      N3KUAA   \n",
       "2        2015      1    1            4      US            840      N171US   \n",
       "3        2015      1    1            4      AA            258      N3HYAA   \n",
       "4        2015      1    1            4      AS            135      N527AS   \n",
       "...       ...    ...  ...          ...     ...            ...         ...   \n",
       "5819074  2015     12   31            4      B6            688      N657JB   \n",
       "5819075  2015     12   31            4      B6            745      N828JB   \n",
       "5819076  2015     12   31            4      B6           1503      N913JB   \n",
       "5819077  2015     12   31            4      B6            333      N527JB   \n",
       "5819078  2015     12   31            4      B6            839      N534JB   \n",
       "\n",
       "        ORIGIN_AIRPORT DESTINATION_AIRPORT  SCHEDULED_DEPARTURE  ...  \\\n",
       "0                  ANC                 SEA                    5  ...   \n",
       "1                  LAX                 PBI                   10  ...   \n",
       "2                  SFO                 CLT                   20  ...   \n",
       "3                  LAX                 MIA                   20  ...   \n",
       "4                  SEA                 ANC                   25  ...   \n",
       "...                ...                 ...                  ...  ...   \n",
       "5819074            LAX                 BOS                 2359  ...   \n",
       "5819075            JFK                 PSE                 2359  ...   \n",
       "5819076            JFK                 SJU                 2359  ...   \n",
       "5819077            MCO                 SJU                 2359  ...   \n",
       "5819078            JFK                 BQN                 2359  ...   \n",
       "\n",
       "         ARRIVAL_TIME  ARRIVAL_DELAY  DIVERTED  CANCELLED  \\\n",
       "0               408.0          -22.0         0          0   \n",
       "1               741.0           -9.0         0          0   \n",
       "2               811.0            5.0         0          0   \n",
       "3               756.0           -9.0         0          0   \n",
       "4               259.0          -21.0         0          0   \n",
       "...               ...            ...       ...        ...   \n",
       "5819074         753.0          -26.0         0          0   \n",
       "5819075         430.0          -16.0         0          0   \n",
       "5819076         432.0           -8.0         0          0   \n",
       "5819077         330.0          -10.0         0          0   \n",
       "5819078         442.0            2.0         0          0   \n",
       "\n",
       "         CANCELLATION_REASON  AIR_SYSTEM_DELAY  SECURITY_DELAY  AIRLINE_DELAY  \\\n",
       "0                        NaN               NaN             NaN            NaN   \n",
       "1                        NaN               NaN             NaN            NaN   \n",
       "2                        NaN               NaN             NaN            NaN   \n",
       "3                        NaN               NaN             NaN            NaN   \n",
       "4                        NaN               NaN             NaN            NaN   \n",
       "...                      ...               ...             ...            ...   \n",
       "5819074                  NaN               NaN             NaN            NaN   \n",
       "5819075                  NaN               NaN             NaN            NaN   \n",
       "5819076                  NaN               NaN             NaN            NaN   \n",
       "5819077                  NaN               NaN             NaN            NaN   \n",
       "5819078                  NaN               NaN             NaN            NaN   \n",
       "\n",
       "         LATE_AIRCRAFT_DELAY  WEATHER_DELAY  \n",
       "0                        NaN            NaN  \n",
       "1                        NaN            NaN  \n",
       "2                        NaN            NaN  \n",
       "3                        NaN            NaN  \n",
       "4                        NaN            NaN  \n",
       "...                      ...            ...  \n",
       "5819074                  NaN            NaN  \n",
       "5819075                  NaN            NaN  \n",
       "5819076                  NaN            NaN  \n",
       "5819077                  NaN            NaN  \n",
       "5819078                  NaN            NaN  \n",
       "\n",
       "[5819079 rows x 31 columns]"
      ]
     },
     "execution_count": 3,
     "metadata": {},
     "output_type": "execute_result"
    }
   ],
   "source": [
    "df = pd.read_csv('/kaggle/input/flight-delays/flights.csv', low_memory=False)\n",
    "df"
   ]
  },
  {
   "cell_type": "code",
   "execution_count": 4,
   "metadata": {
    "execution": {
     "iopub.execute_input": "2021-01-11T16:56:57.346741Z",
     "iopub.status.busy": "2021-01-11T16:56:57.346117Z",
     "iopub.status.idle": "2021-01-11T16:56:57.349800Z",
     "shell.execute_reply": "2021-01-11T16:56:57.349251Z"
    },
    "papermill": {
     "duration": 0.038941,
     "end_time": "2021-01-11T16:56:57.349905",
     "exception": false,
     "start_time": "2021-01-11T16:56:57.310964",
     "status": "completed"
    },
    "tags": []
   },
   "outputs": [],
   "source": [
    "df = df[0:100000]"
   ]
  },
  {
   "cell_type": "code",
   "execution_count": 5,
   "metadata": {
    "execution": {
     "iopub.execute_input": "2021-01-11T16:56:57.410862Z",
     "iopub.status.busy": "2021-01-11T16:56:57.409853Z",
     "iopub.status.idle": "2021-01-11T16:56:57.413590Z",
     "shell.execute_reply": "2021-01-11T16:56:57.414267Z"
    },
    "papermill": {
     "duration": 0.037467,
     "end_time": "2021-01-11T16:56:57.414463",
     "exception": false,
     "start_time": "2021-01-11T16:56:57.376996",
     "status": "completed"
    },
    "tags": []
   },
   "outputs": [
    {
     "data": {
      "text/plain": [
       "(100000, 31)"
      ]
     },
     "execution_count": 5,
     "metadata": {},
     "output_type": "execute_result"
    }
   ],
   "source": [
    "df.shape"
   ]
  },
  {
   "cell_type": "code",
   "execution_count": 6,
   "metadata": {
    "execution": {
     "iopub.execute_input": "2021-01-11T16:56:57.504187Z",
     "iopub.status.busy": "2021-01-11T16:56:57.502958Z",
     "iopub.status.idle": "2021-01-11T16:56:57.546595Z",
     "shell.execute_reply": "2021-01-11T16:56:57.548001Z"
    },
    "papermill": {
     "duration": 0.092318,
     "end_time": "2021-01-11T16:56:57.548225",
     "exception": false,
     "start_time": "2021-01-11T16:56:57.455907",
     "status": "completed"
    },
    "tags": []
   },
   "outputs": [
    {
     "name": "stdout",
     "output_type": "stream",
     "text": [
      "<class 'pandas.core.frame.DataFrame'>\n",
      "RangeIndex: 100000 entries, 0 to 99999\n",
      "Data columns (total 31 columns):\n",
      " #   Column               Non-Null Count   Dtype  \n",
      "---  ------               --------------   -----  \n",
      " 0   YEAR                 100000 non-null  int64  \n",
      " 1   MONTH                100000 non-null  int64  \n",
      " 2   DAY                  100000 non-null  int64  \n",
      " 3   DAY_OF_WEEK          100000 non-null  int64  \n",
      " 4   AIRLINE              100000 non-null  object \n",
      " 5   FLIGHT_NUMBER        100000 non-null  int64  \n",
      " 6   TAIL_NUMBER          99833 non-null   object \n",
      " 7   ORIGIN_AIRPORT       100000 non-null  object \n",
      " 8   DESTINATION_AIRPORT  100000 non-null  object \n",
      " 9   SCHEDULED_DEPARTURE  100000 non-null  int64  \n",
      " 10  DEPARTURE_TIME       97702 non-null   float64\n",
      " 11  DEPARTURE_DELAY      97702 non-null   float64\n",
      " 12  TAXI_OUT             97629 non-null   float64\n",
      " 13  WHEELS_OFF           97629 non-null   float64\n",
      " 14  SCHEDULED_TIME       100000 non-null  float64\n",
      " 15  ELAPSED_TIME         97387 non-null   float64\n",
      " 16  AIR_TIME             97387 non-null   float64\n",
      " 17  DISTANCE             100000 non-null  int64  \n",
      " 18  WHEELS_ON            97560 non-null   float64\n",
      " 19  TAXI_IN              97560 non-null   float64\n",
      " 20  SCHEDULED_ARRIVAL    100000 non-null  int64  \n",
      " 21  ARRIVAL_TIME         97560 non-null   float64\n",
      " 22  ARRIVAL_DELAY        97387 non-null   float64\n",
      " 23  DIVERTED             100000 non-null  int64  \n",
      " 24  CANCELLED            100000 non-null  int64  \n",
      " 25  CANCELLATION_REASON  2389 non-null    object \n",
      " 26  AIR_SYSTEM_DELAY     34625 non-null   float64\n",
      " 27  SECURITY_DELAY       34625 non-null   float64\n",
      " 28  AIRLINE_DELAY        34625 non-null   float64\n",
      " 29  LATE_AIRCRAFT_DELAY  34625 non-null   float64\n",
      " 30  WEATHER_DELAY        34625 non-null   float64\n",
      "dtypes: float64(16), int64(10), object(5)\n",
      "memory usage: 23.7+ MB\n"
     ]
    }
   ],
   "source": [
    "df.info()"
   ]
  },
  {
   "cell_type": "code",
   "execution_count": 7,
   "metadata": {
    "execution": {
     "iopub.execute_input": "2021-01-11T16:56:57.638649Z",
     "iopub.status.busy": "2021-01-11T16:56:57.637838Z",
     "iopub.status.idle": "2021-01-11T16:56:57.648744Z",
     "shell.execute_reply": "2021-01-11T16:56:57.649434Z"
    },
    "papermill": {
     "duration": 0.056718,
     "end_time": "2021-01-11T16:56:57.649594",
     "exception": false,
     "start_time": "2021-01-11T16:56:57.592876",
     "status": "completed"
    },
    "tags": []
   },
   "outputs": [
    {
     "data": {
      "text/plain": [
       "DIVERTED\n",
       "0    99776\n",
       "1      224\n",
       "dtype: int64"
      ]
     },
     "execution_count": 7,
     "metadata": {},
     "output_type": "execute_result"
    }
   ],
   "source": [
    "df.value_counts('DIVERTED')"
   ]
  },
  {
   "cell_type": "code",
   "execution_count": 8,
   "metadata": {
    "execution": {
     "iopub.execute_input": "2021-01-11T16:56:57.741634Z",
     "iopub.status.busy": "2021-01-11T16:56:57.740584Z",
     "iopub.status.idle": "2021-01-11T16:56:57.997155Z",
     "shell.execute_reply": "2021-01-11T16:56:57.997700Z"
    },
    "papermill": {
     "duration": 0.305313,
     "end_time": "2021-01-11T16:56:57.997851",
     "exception": false,
     "start_time": "2021-01-11T16:56:57.692538",
     "status": "completed"
    },
    "tags": []
   },
   "outputs": [
    {
     "data": {
      "text/html": [
       "<div>\n",
       "<style scoped>\n",
       "    .dataframe tbody tr th:only-of-type {\n",
       "        vertical-align: middle;\n",
       "    }\n",
       "\n",
       "    .dataframe tbody tr th {\n",
       "        vertical-align: top;\n",
       "    }\n",
       "\n",
       "    .dataframe thead th {\n",
       "        text-align: right;\n",
       "    }\n",
       "</style>\n",
       "<table border=\"1\" class=\"dataframe\">\n",
       "  <thead>\n",
       "    <tr style=\"text-align: right;\">\n",
       "      <th></th>\n",
       "      <th>YEAR</th>\n",
       "      <th>MONTH</th>\n",
       "      <th>DAY</th>\n",
       "      <th>DAY_OF_WEEK</th>\n",
       "      <th>FLIGHT_NUMBER</th>\n",
       "      <th>SCHEDULED_DEPARTURE</th>\n",
       "      <th>DEPARTURE_TIME</th>\n",
       "      <th>DEPARTURE_DELAY</th>\n",
       "      <th>TAXI_OUT</th>\n",
       "      <th>WHEELS_OFF</th>\n",
       "      <th>...</th>\n",
       "      <th>SCHEDULED_ARRIVAL</th>\n",
       "      <th>ARRIVAL_TIME</th>\n",
       "      <th>ARRIVAL_DELAY</th>\n",
       "      <th>DIVERTED</th>\n",
       "      <th>CANCELLED</th>\n",
       "      <th>AIR_SYSTEM_DELAY</th>\n",
       "      <th>SECURITY_DELAY</th>\n",
       "      <th>AIRLINE_DELAY</th>\n",
       "      <th>LATE_AIRCRAFT_DELAY</th>\n",
       "      <th>WEATHER_DELAY</th>\n",
       "    </tr>\n",
       "  </thead>\n",
       "  <tbody>\n",
       "    <tr>\n",
       "      <th>YEAR</th>\n",
       "      <td>NaN</td>\n",
       "      <td>NaN</td>\n",
       "      <td>NaN</td>\n",
       "      <td>NaN</td>\n",
       "      <td>NaN</td>\n",
       "      <td>NaN</td>\n",
       "      <td>NaN</td>\n",
       "      <td>NaN</td>\n",
       "      <td>NaN</td>\n",
       "      <td>NaN</td>\n",
       "      <td>...</td>\n",
       "      <td>NaN</td>\n",
       "      <td>NaN</td>\n",
       "      <td>NaN</td>\n",
       "      <td>NaN</td>\n",
       "      <td>NaN</td>\n",
       "      <td>NaN</td>\n",
       "      <td>NaN</td>\n",
       "      <td>NaN</td>\n",
       "      <td>NaN</td>\n",
       "      <td>NaN</td>\n",
       "    </tr>\n",
       "    <tr>\n",
       "      <th>MONTH</th>\n",
       "      <td>NaN</td>\n",
       "      <td>NaN</td>\n",
       "      <td>NaN</td>\n",
       "      <td>NaN</td>\n",
       "      <td>NaN</td>\n",
       "      <td>NaN</td>\n",
       "      <td>NaN</td>\n",
       "      <td>NaN</td>\n",
       "      <td>NaN</td>\n",
       "      <td>NaN</td>\n",
       "      <td>...</td>\n",
       "      <td>NaN</td>\n",
       "      <td>NaN</td>\n",
       "      <td>NaN</td>\n",
       "      <td>NaN</td>\n",
       "      <td>NaN</td>\n",
       "      <td>NaN</td>\n",
       "      <td>NaN</td>\n",
       "      <td>NaN</td>\n",
       "      <td>NaN</td>\n",
       "      <td>NaN</td>\n",
       "    </tr>\n",
       "    <tr>\n",
       "      <th>DAY</th>\n",
       "      <td>NaN</td>\n",
       "      <td>NaN</td>\n",
       "      <td>1.000000</td>\n",
       "      <td>-0.497084</td>\n",
       "      <td>0.004412</td>\n",
       "      <td>-0.138130</td>\n",
       "      <td>-0.124369</td>\n",
       "      <td>0.060064</td>\n",
       "      <td>0.093451</td>\n",
       "      <td>-0.119781</td>\n",
       "      <td>...</td>\n",
       "      <td>-0.110820</td>\n",
       "      <td>-0.091687</td>\n",
       "      <td>0.070770</td>\n",
       "      <td>0.004847</td>\n",
       "      <td>-0.006000</td>\n",
       "      <td>0.097693</td>\n",
       "      <td>-0.010550</td>\n",
       "      <td>-0.001603</td>\n",
       "      <td>0.033213</td>\n",
       "      <td>0.061960</td>\n",
       "    </tr>\n",
       "    <tr>\n",
       "      <th>DAY_OF_WEEK</th>\n",
       "      <td>NaN</td>\n",
       "      <td>NaN</td>\n",
       "      <td>-0.497084</td>\n",
       "      <td>1.000000</td>\n",
       "      <td>0.010955</td>\n",
       "      <td>0.046914</td>\n",
       "      <td>0.045182</td>\n",
       "      <td>0.055632</td>\n",
       "      <td>0.007291</td>\n",
       "      <td>0.044150</td>\n",
       "      <td>...</td>\n",
       "      <td>0.031725</td>\n",
       "      <td>0.011477</td>\n",
       "      <td>0.067520</td>\n",
       "      <td>-0.000709</td>\n",
       "      <td>-0.006409</td>\n",
       "      <td>-0.019626</td>\n",
       "      <td>0.008156</td>\n",
       "      <td>0.003648</td>\n",
       "      <td>0.033729</td>\n",
       "      <td>-0.050835</td>\n",
       "    </tr>\n",
       "    <tr>\n",
       "      <th>FLIGHT_NUMBER</th>\n",
       "      <td>NaN</td>\n",
       "      <td>NaN</td>\n",
       "      <td>0.004412</td>\n",
       "      <td>0.010955</td>\n",
       "      <td>1.000000</td>\n",
       "      <td>-0.003027</td>\n",
       "      <td>0.010140</td>\n",
       "      <td>0.034863</td>\n",
       "      <td>0.061010</td>\n",
       "      <td>0.016377</td>\n",
       "      <td>...</td>\n",
       "      <td>-0.018891</td>\n",
       "      <td>0.000753</td>\n",
       "      <td>0.056163</td>\n",
       "      <td>0.007155</td>\n",
       "      <td>0.090008</td>\n",
       "      <td>-0.032564</td>\n",
       "      <td>-0.007260</td>\n",
       "      <td>0.023770</td>\n",
       "      <td>0.076581</td>\n",
       "      <td>0.004246</td>\n",
       "    </tr>\n",
       "    <tr>\n",
       "      <th>SCHEDULED_DEPARTURE</th>\n",
       "      <td>NaN</td>\n",
       "      <td>NaN</td>\n",
       "      <td>-0.138130</td>\n",
       "      <td>0.046914</td>\n",
       "      <td>-0.003027</td>\n",
       "      <td>1.000000</td>\n",
       "      <td>0.943186</td>\n",
       "      <td>0.174254</td>\n",
       "      <td>-0.081496</td>\n",
       "      <td>0.912232</td>\n",
       "      <td>...</td>\n",
       "      <td>0.731240</td>\n",
       "      <td>0.552653</td>\n",
       "      <td>0.154951</td>\n",
       "      <td>0.002515</td>\n",
       "      <td>-0.002631</td>\n",
       "      <td>-0.112393</td>\n",
       "      <td>-0.017957</td>\n",
       "      <td>-0.054419</td>\n",
       "      <td>0.186286</td>\n",
       "      <td>-0.042004</td>\n",
       "    </tr>\n",
       "    <tr>\n",
       "      <th>DEPARTURE_TIME</th>\n",
       "      <td>NaN</td>\n",
       "      <td>NaN</td>\n",
       "      <td>-0.124369</td>\n",
       "      <td>0.045182</td>\n",
       "      <td>0.010140</td>\n",
       "      <td>0.943186</td>\n",
       "      <td>1.000000</td>\n",
       "      <td>0.243960</td>\n",
       "      <td>-0.070081</td>\n",
       "      <td>0.966477</td>\n",
       "      <td>...</td>\n",
       "      <td>0.734970</td>\n",
       "      <td>0.584615</td>\n",
       "      <td>0.223654</td>\n",
       "      <td>0.006576</td>\n",
       "      <td>0.009679</td>\n",
       "      <td>-0.093096</td>\n",
       "      <td>-0.012820</td>\n",
       "      <td>-0.013304</td>\n",
       "      <td>0.247325</td>\n",
       "      <td>-0.046406</td>\n",
       "    </tr>\n",
       "    <tr>\n",
       "      <th>DEPARTURE_DELAY</th>\n",
       "      <td>NaN</td>\n",
       "      <td>NaN</td>\n",
       "      <td>0.060064</td>\n",
       "      <td>0.055632</td>\n",
       "      <td>0.034863</td>\n",
       "      <td>0.174254</td>\n",
       "      <td>0.243960</td>\n",
       "      <td>1.000000</td>\n",
       "      <td>0.061905</td>\n",
       "      <td>0.231399</td>\n",
       "      <td>...</td>\n",
       "      <td>0.155150</td>\n",
       "      <td>0.079639</td>\n",
       "      <td>0.950838</td>\n",
       "      <td>0.020787</td>\n",
       "      <td>0.030862</td>\n",
       "      <td>0.085794</td>\n",
       "      <td>0.008040</td>\n",
       "      <td>0.606954</td>\n",
       "      <td>0.605289</td>\n",
       "      <td>0.210402</td>\n",
       "    </tr>\n",
       "    <tr>\n",
       "      <th>TAXI_OUT</th>\n",
       "      <td>NaN</td>\n",
       "      <td>NaN</td>\n",
       "      <td>0.093451</td>\n",
       "      <td>0.007291</td>\n",
       "      <td>0.061010</td>\n",
       "      <td>-0.081496</td>\n",
       "      <td>-0.070081</td>\n",
       "      <td>0.061905</td>\n",
       "      <td>1.000000</td>\n",
       "      <td>-0.043114</td>\n",
       "      <td>...</td>\n",
       "      <td>-0.062325</td>\n",
       "      <td>-0.045611</td>\n",
       "      <td>0.245363</td>\n",
       "      <td>0.009810</td>\n",
       "      <td>0.010763</td>\n",
       "      <td>0.407371</td>\n",
       "      <td>-0.008021</td>\n",
       "      <td>-0.024674</td>\n",
       "      <td>-0.129879</td>\n",
       "      <td>0.119412</td>\n",
       "    </tr>\n",
       "    <tr>\n",
       "      <th>WHEELS_OFF</th>\n",
       "      <td>NaN</td>\n",
       "      <td>NaN</td>\n",
       "      <td>-0.119781</td>\n",
       "      <td>0.044150</td>\n",
       "      <td>0.016377</td>\n",
       "      <td>0.912232</td>\n",
       "      <td>0.966477</td>\n",
       "      <td>0.231399</td>\n",
       "      <td>-0.043114</td>\n",
       "      <td>1.000000</td>\n",
       "      <td>...</td>\n",
       "      <td>0.744697</td>\n",
       "      <td>0.608611</td>\n",
       "      <td>0.217344</td>\n",
       "      <td>0.006524</td>\n",
       "      <td>0.001293</td>\n",
       "      <td>-0.085582</td>\n",
       "      <td>-0.013912</td>\n",
       "      <td>-0.017376</td>\n",
       "      <td>0.223010</td>\n",
       "      <td>-0.055273</td>\n",
       "    </tr>\n",
       "    <tr>\n",
       "      <th>SCHEDULED_TIME</th>\n",
       "      <td>NaN</td>\n",
       "      <td>NaN</td>\n",
       "      <td>-0.026285</td>\n",
       "      <td>0.019755</td>\n",
       "      <td>-0.337801</td>\n",
       "      <td>-0.019873</td>\n",
       "      <td>-0.031873</td>\n",
       "      <td>0.005868</td>\n",
       "      <td>0.096191</td>\n",
       "      <td>-0.038173</td>\n",
       "      <td>...</td>\n",
       "      <td>0.035598</td>\n",
       "      <td>0.014674</td>\n",
       "      <td>-0.022043</td>\n",
       "      <td>0.015000</td>\n",
       "      <td>-0.074084</td>\n",
       "      <td>0.056865</td>\n",
       "      <td>0.009740</td>\n",
       "      <td>0.032593</td>\n",
       "      <td>-0.084673</td>\n",
       "      <td>-0.001975</td>\n",
       "    </tr>\n",
       "    <tr>\n",
       "      <th>ELAPSED_TIME</th>\n",
       "      <td>NaN</td>\n",
       "      <td>NaN</td>\n",
       "      <td>-0.018470</td>\n",
       "      <td>0.029025</td>\n",
       "      <td>-0.318819</td>\n",
       "      <td>-0.025744</td>\n",
       "      <td>-0.035204</td>\n",
       "      <td>0.015257</td>\n",
       "      <td>0.215749</td>\n",
       "      <td>-0.038217</td>\n",
       "      <td>...</td>\n",
       "      <td>0.031223</td>\n",
       "      <td>0.016711</td>\n",
       "      <td>0.048448</td>\n",
       "      <td>NaN</td>\n",
       "      <td>NaN</td>\n",
       "      <td>0.190842</td>\n",
       "      <td>0.007724</td>\n",
       "      <td>0.009438</td>\n",
       "      <td>-0.118290</td>\n",
       "      <td>0.014470</td>\n",
       "    </tr>\n",
       "    <tr>\n",
       "      <th>AIR_TIME</th>\n",
       "      <td>NaN</td>\n",
       "      <td>NaN</td>\n",
       "      <td>-0.036330</td>\n",
       "      <td>0.030678</td>\n",
       "      <td>-0.339135</td>\n",
       "      <td>-0.011993</td>\n",
       "      <td>-0.024384</td>\n",
       "      <td>0.002733</td>\n",
       "      <td>0.077234</td>\n",
       "      <td>-0.031646</td>\n",
       "      <td>...</td>\n",
       "      <td>0.041368</td>\n",
       "      <td>0.022517</td>\n",
       "      <td>-0.002742</td>\n",
       "      <td>NaN</td>\n",
       "      <td>NaN</td>\n",
       "      <td>0.072436</td>\n",
       "      <td>0.010442</td>\n",
       "      <td>0.022433</td>\n",
       "      <td>-0.096358</td>\n",
       "      <td>-0.006582</td>\n",
       "    </tr>\n",
       "    <tr>\n",
       "      <th>DISTANCE</th>\n",
       "      <td>NaN</td>\n",
       "      <td>NaN</td>\n",
       "      <td>-0.035208</td>\n",
       "      <td>0.024666</td>\n",
       "      <td>-0.356196</td>\n",
       "      <td>0.000321</td>\n",
       "      <td>-0.016562</td>\n",
       "      <td>0.004591</td>\n",
       "      <td>0.057871</td>\n",
       "      <td>-0.027282</td>\n",
       "      <td>...</td>\n",
       "      <td>0.044615</td>\n",
       "      <td>0.017333</td>\n",
       "      <td>-0.023821</td>\n",
       "      <td>0.013996</td>\n",
       "      <td>-0.076796</td>\n",
       "      <td>0.041963</td>\n",
       "      <td>0.011547</td>\n",
       "      <td>0.030500</td>\n",
       "      <td>-0.086155</td>\n",
       "      <td>-0.010430</td>\n",
       "    </tr>\n",
       "    <tr>\n",
       "      <th>WHEELS_ON</th>\n",
       "      <td>NaN</td>\n",
       "      <td>NaN</td>\n",
       "      <td>-0.095731</td>\n",
       "      <td>0.013749</td>\n",
       "      <td>-0.003670</td>\n",
       "      <td>0.585786</td>\n",
       "      <td>0.618850</td>\n",
       "      <td>0.090696</td>\n",
       "      <td>-0.045096</td>\n",
       "      <td>0.642358</td>\n",
       "      <td>...</td>\n",
       "      <td>0.799303</td>\n",
       "      <td>0.959177</td>\n",
       "      <td>0.088131</td>\n",
       "      <td>-0.000289</td>\n",
       "      <td>NaN</td>\n",
       "      <td>-0.049010</td>\n",
       "      <td>-0.012903</td>\n",
       "      <td>-0.056574</td>\n",
       "      <td>0.054199</td>\n",
       "      <td>-0.057202</td>\n",
       "    </tr>\n",
       "    <tr>\n",
       "      <th>TAXI_IN</th>\n",
       "      <td>NaN</td>\n",
       "      <td>NaN</td>\n",
       "      <td>0.037407</td>\n",
       "      <td>-0.017789</td>\n",
       "      <td>0.014464</td>\n",
       "      <td>-0.027502</td>\n",
       "      <td>-0.017759</td>\n",
       "      <td>0.040285</td>\n",
       "      <td>0.009041</td>\n",
       "      <td>-0.015089</td>\n",
       "      <td>...</td>\n",
       "      <td>-0.001440</td>\n",
       "      <td>0.012095</td>\n",
       "      <td>0.170073</td>\n",
       "      <td>0.006915</td>\n",
       "      <td>NaN</td>\n",
       "      <td>0.299436</td>\n",
       "      <td>-0.005075</td>\n",
       "      <td>-0.051595</td>\n",
       "      <td>-0.004698</td>\n",
       "      <td>-0.018058</td>\n",
       "    </tr>\n",
       "    <tr>\n",
       "      <th>SCHEDULED_ARRIVAL</th>\n",
       "      <td>NaN</td>\n",
       "      <td>NaN</td>\n",
       "      <td>-0.110820</td>\n",
       "      <td>0.031725</td>\n",
       "      <td>-0.018891</td>\n",
       "      <td>0.731240</td>\n",
       "      <td>0.734970</td>\n",
       "      <td>0.155150</td>\n",
       "      <td>-0.062325</td>\n",
       "      <td>0.744697</td>\n",
       "      <td>...</td>\n",
       "      <td>1.000000</td>\n",
       "      <td>0.771945</td>\n",
       "      <td>0.140565</td>\n",
       "      <td>0.005992</td>\n",
       "      <td>-0.013131</td>\n",
       "      <td>-0.064453</td>\n",
       "      <td>-0.008270</td>\n",
       "      <td>-0.050435</td>\n",
       "      <td>0.146386</td>\n",
       "      <td>-0.043930</td>\n",
       "    </tr>\n",
       "    <tr>\n",
       "      <th>ARRIVAL_TIME</th>\n",
       "      <td>NaN</td>\n",
       "      <td>NaN</td>\n",
       "      <td>-0.091687</td>\n",
       "      <td>0.011477</td>\n",
       "      <td>0.000753</td>\n",
       "      <td>0.552653</td>\n",
       "      <td>0.584615</td>\n",
       "      <td>0.079639</td>\n",
       "      <td>-0.045611</td>\n",
       "      <td>0.608611</td>\n",
       "      <td>...</td>\n",
       "      <td>0.771945</td>\n",
       "      <td>1.000000</td>\n",
       "      <td>0.076791</td>\n",
       "      <td>-0.002489</td>\n",
       "      <td>NaN</td>\n",
       "      <td>-0.052236</td>\n",
       "      <td>-0.014825</td>\n",
       "      <td>-0.057557</td>\n",
       "      <td>0.050115</td>\n",
       "      <td>-0.058355</td>\n",
       "    </tr>\n",
       "    <tr>\n",
       "      <th>ARRIVAL_DELAY</th>\n",
       "      <td>NaN</td>\n",
       "      <td>NaN</td>\n",
       "      <td>0.070770</td>\n",
       "      <td>0.067520</td>\n",
       "      <td>0.056163</td>\n",
       "      <td>0.154951</td>\n",
       "      <td>0.223654</td>\n",
       "      <td>0.950838</td>\n",
       "      <td>0.245363</td>\n",
       "      <td>0.217344</td>\n",
       "      <td>...</td>\n",
       "      <td>0.140565</td>\n",
       "      <td>0.076791</td>\n",
       "      <td>1.000000</td>\n",
       "      <td>NaN</td>\n",
       "      <td>NaN</td>\n",
       "      <td>0.259700</td>\n",
       "      <td>0.006070</td>\n",
       "      <td>0.592718</td>\n",
       "      <td>0.572956</td>\n",
       "      <td>0.235906</td>\n",
       "    </tr>\n",
       "    <tr>\n",
       "      <th>DIVERTED</th>\n",
       "      <td>NaN</td>\n",
       "      <td>NaN</td>\n",
       "      <td>0.004847</td>\n",
       "      <td>-0.000709</td>\n",
       "      <td>0.007155</td>\n",
       "      <td>0.002515</td>\n",
       "      <td>0.006576</td>\n",
       "      <td>0.020787</td>\n",
       "      <td>0.009810</td>\n",
       "      <td>0.006524</td>\n",
       "      <td>...</td>\n",
       "      <td>0.005992</td>\n",
       "      <td>-0.002489</td>\n",
       "      <td>NaN</td>\n",
       "      <td>1.000000</td>\n",
       "      <td>-0.007413</td>\n",
       "      <td>NaN</td>\n",
       "      <td>NaN</td>\n",
       "      <td>NaN</td>\n",
       "      <td>NaN</td>\n",
       "      <td>NaN</td>\n",
       "    </tr>\n",
       "    <tr>\n",
       "      <th>CANCELLED</th>\n",
       "      <td>NaN</td>\n",
       "      <td>NaN</td>\n",
       "      <td>-0.006000</td>\n",
       "      <td>-0.006409</td>\n",
       "      <td>0.090008</td>\n",
       "      <td>-0.002631</td>\n",
       "      <td>0.009679</td>\n",
       "      <td>0.030862</td>\n",
       "      <td>0.010763</td>\n",
       "      <td>0.001293</td>\n",
       "      <td>...</td>\n",
       "      <td>-0.013131</td>\n",
       "      <td>NaN</td>\n",
       "      <td>NaN</td>\n",
       "      <td>-0.007413</td>\n",
       "      <td>1.000000</td>\n",
       "      <td>NaN</td>\n",
       "      <td>NaN</td>\n",
       "      <td>NaN</td>\n",
       "      <td>NaN</td>\n",
       "      <td>NaN</td>\n",
       "    </tr>\n",
       "    <tr>\n",
       "      <th>AIR_SYSTEM_DELAY</th>\n",
       "      <td>NaN</td>\n",
       "      <td>NaN</td>\n",
       "      <td>0.097693</td>\n",
       "      <td>-0.019626</td>\n",
       "      <td>-0.032564</td>\n",
       "      <td>-0.112393</td>\n",
       "      <td>-0.093096</td>\n",
       "      <td>0.085794</td>\n",
       "      <td>0.407371</td>\n",
       "      <td>-0.085582</td>\n",
       "      <td>...</td>\n",
       "      <td>-0.064453</td>\n",
       "      <td>-0.052236</td>\n",
       "      <td>0.259700</td>\n",
       "      <td>NaN</td>\n",
       "      <td>NaN</td>\n",
       "      <td>1.000000</td>\n",
       "      <td>-0.014622</td>\n",
       "      <td>-0.106087</td>\n",
       "      <td>-0.136411</td>\n",
       "      <td>0.019507</td>\n",
       "    </tr>\n",
       "    <tr>\n",
       "      <th>SECURITY_DELAY</th>\n",
       "      <td>NaN</td>\n",
       "      <td>NaN</td>\n",
       "      <td>-0.010550</td>\n",
       "      <td>0.008156</td>\n",
       "      <td>-0.007260</td>\n",
       "      <td>-0.017957</td>\n",
       "      <td>-0.012820</td>\n",
       "      <td>0.008040</td>\n",
       "      <td>-0.008021</td>\n",
       "      <td>-0.013912</td>\n",
       "      <td>...</td>\n",
       "      <td>-0.008270</td>\n",
       "      <td>-0.014825</td>\n",
       "      <td>0.006070</td>\n",
       "      <td>NaN</td>\n",
       "      <td>NaN</td>\n",
       "      <td>-0.014622</td>\n",
       "      <td>1.000000</td>\n",
       "      <td>-0.009884</td>\n",
       "      <td>-0.012136</td>\n",
       "      <td>0.000274</td>\n",
       "    </tr>\n",
       "    <tr>\n",
       "      <th>AIRLINE_DELAY</th>\n",
       "      <td>NaN</td>\n",
       "      <td>NaN</td>\n",
       "      <td>-0.001603</td>\n",
       "      <td>0.003648</td>\n",
       "      <td>0.023770</td>\n",
       "      <td>-0.054419</td>\n",
       "      <td>-0.013304</td>\n",
       "      <td>0.606954</td>\n",
       "      <td>-0.024674</td>\n",
       "      <td>-0.017376</td>\n",
       "      <td>...</td>\n",
       "      <td>-0.050435</td>\n",
       "      <td>-0.057557</td>\n",
       "      <td>0.592718</td>\n",
       "      <td>NaN</td>\n",
       "      <td>NaN</td>\n",
       "      <td>-0.106087</td>\n",
       "      <td>-0.009884</td>\n",
       "      <td>1.000000</td>\n",
       "      <td>-0.084750</td>\n",
       "      <td>-0.056336</td>\n",
       "    </tr>\n",
       "    <tr>\n",
       "      <th>LATE_AIRCRAFT_DELAY</th>\n",
       "      <td>NaN</td>\n",
       "      <td>NaN</td>\n",
       "      <td>0.033213</td>\n",
       "      <td>0.033729</td>\n",
       "      <td>0.076581</td>\n",
       "      <td>0.186286</td>\n",
       "      <td>0.247325</td>\n",
       "      <td>0.605289</td>\n",
       "      <td>-0.129879</td>\n",
       "      <td>0.223010</td>\n",
       "      <td>...</td>\n",
       "      <td>0.146386</td>\n",
       "      <td>0.050115</td>\n",
       "      <td>0.572956</td>\n",
       "      <td>NaN</td>\n",
       "      <td>NaN</td>\n",
       "      <td>-0.136411</td>\n",
       "      <td>-0.012136</td>\n",
       "      <td>-0.084750</td>\n",
       "      <td>1.000000</td>\n",
       "      <td>-0.021674</td>\n",
       "    </tr>\n",
       "    <tr>\n",
       "      <th>WEATHER_DELAY</th>\n",
       "      <td>NaN</td>\n",
       "      <td>NaN</td>\n",
       "      <td>0.061960</td>\n",
       "      <td>-0.050835</td>\n",
       "      <td>0.004246</td>\n",
       "      <td>-0.042004</td>\n",
       "      <td>-0.046406</td>\n",
       "      <td>0.210402</td>\n",
       "      <td>0.119412</td>\n",
       "      <td>-0.055273</td>\n",
       "      <td>...</td>\n",
       "      <td>-0.043930</td>\n",
       "      <td>-0.058355</td>\n",
       "      <td>0.235906</td>\n",
       "      <td>NaN</td>\n",
       "      <td>NaN</td>\n",
       "      <td>0.019507</td>\n",
       "      <td>0.000274</td>\n",
       "      <td>-0.056336</td>\n",
       "      <td>-0.021674</td>\n",
       "      <td>1.000000</td>\n",
       "    </tr>\n",
       "  </tbody>\n",
       "</table>\n",
       "<p>26 rows × 26 columns</p>\n",
       "</div>"
      ],
      "text/plain": [
       "                     YEAR  MONTH       DAY  DAY_OF_WEEK  FLIGHT_NUMBER  \\\n",
       "YEAR                  NaN    NaN       NaN          NaN            NaN   \n",
       "MONTH                 NaN    NaN       NaN          NaN            NaN   \n",
       "DAY                   NaN    NaN  1.000000    -0.497084       0.004412   \n",
       "DAY_OF_WEEK           NaN    NaN -0.497084     1.000000       0.010955   \n",
       "FLIGHT_NUMBER         NaN    NaN  0.004412     0.010955       1.000000   \n",
       "SCHEDULED_DEPARTURE   NaN    NaN -0.138130     0.046914      -0.003027   \n",
       "DEPARTURE_TIME        NaN    NaN -0.124369     0.045182       0.010140   \n",
       "DEPARTURE_DELAY       NaN    NaN  0.060064     0.055632       0.034863   \n",
       "TAXI_OUT              NaN    NaN  0.093451     0.007291       0.061010   \n",
       "WHEELS_OFF            NaN    NaN -0.119781     0.044150       0.016377   \n",
       "SCHEDULED_TIME        NaN    NaN -0.026285     0.019755      -0.337801   \n",
       "ELAPSED_TIME          NaN    NaN -0.018470     0.029025      -0.318819   \n",
       "AIR_TIME              NaN    NaN -0.036330     0.030678      -0.339135   \n",
       "DISTANCE              NaN    NaN -0.035208     0.024666      -0.356196   \n",
       "WHEELS_ON             NaN    NaN -0.095731     0.013749      -0.003670   \n",
       "TAXI_IN               NaN    NaN  0.037407    -0.017789       0.014464   \n",
       "SCHEDULED_ARRIVAL     NaN    NaN -0.110820     0.031725      -0.018891   \n",
       "ARRIVAL_TIME          NaN    NaN -0.091687     0.011477       0.000753   \n",
       "ARRIVAL_DELAY         NaN    NaN  0.070770     0.067520       0.056163   \n",
       "DIVERTED              NaN    NaN  0.004847    -0.000709       0.007155   \n",
       "CANCELLED             NaN    NaN -0.006000    -0.006409       0.090008   \n",
       "AIR_SYSTEM_DELAY      NaN    NaN  0.097693    -0.019626      -0.032564   \n",
       "SECURITY_DELAY        NaN    NaN -0.010550     0.008156      -0.007260   \n",
       "AIRLINE_DELAY         NaN    NaN -0.001603     0.003648       0.023770   \n",
       "LATE_AIRCRAFT_DELAY   NaN    NaN  0.033213     0.033729       0.076581   \n",
       "WEATHER_DELAY         NaN    NaN  0.061960    -0.050835       0.004246   \n",
       "\n",
       "                     SCHEDULED_DEPARTURE  DEPARTURE_TIME  DEPARTURE_DELAY  \\\n",
       "YEAR                                 NaN             NaN              NaN   \n",
       "MONTH                                NaN             NaN              NaN   \n",
       "DAY                            -0.138130       -0.124369         0.060064   \n",
       "DAY_OF_WEEK                     0.046914        0.045182         0.055632   \n",
       "FLIGHT_NUMBER                  -0.003027        0.010140         0.034863   \n",
       "SCHEDULED_DEPARTURE             1.000000        0.943186         0.174254   \n",
       "DEPARTURE_TIME                  0.943186        1.000000         0.243960   \n",
       "DEPARTURE_DELAY                 0.174254        0.243960         1.000000   \n",
       "TAXI_OUT                       -0.081496       -0.070081         0.061905   \n",
       "WHEELS_OFF                      0.912232        0.966477         0.231399   \n",
       "SCHEDULED_TIME                 -0.019873       -0.031873         0.005868   \n",
       "ELAPSED_TIME                   -0.025744       -0.035204         0.015257   \n",
       "AIR_TIME                       -0.011993       -0.024384         0.002733   \n",
       "DISTANCE                        0.000321       -0.016562         0.004591   \n",
       "WHEELS_ON                       0.585786        0.618850         0.090696   \n",
       "TAXI_IN                        -0.027502       -0.017759         0.040285   \n",
       "SCHEDULED_ARRIVAL               0.731240        0.734970         0.155150   \n",
       "ARRIVAL_TIME                    0.552653        0.584615         0.079639   \n",
       "ARRIVAL_DELAY                   0.154951        0.223654         0.950838   \n",
       "DIVERTED                        0.002515        0.006576         0.020787   \n",
       "CANCELLED                      -0.002631        0.009679         0.030862   \n",
       "AIR_SYSTEM_DELAY               -0.112393       -0.093096         0.085794   \n",
       "SECURITY_DELAY                 -0.017957       -0.012820         0.008040   \n",
       "AIRLINE_DELAY                  -0.054419       -0.013304         0.606954   \n",
       "LATE_AIRCRAFT_DELAY             0.186286        0.247325         0.605289   \n",
       "WEATHER_DELAY                  -0.042004       -0.046406         0.210402   \n",
       "\n",
       "                     TAXI_OUT  WHEELS_OFF  ...  SCHEDULED_ARRIVAL  \\\n",
       "YEAR                      NaN         NaN  ...                NaN   \n",
       "MONTH                     NaN         NaN  ...                NaN   \n",
       "DAY                  0.093451   -0.119781  ...          -0.110820   \n",
       "DAY_OF_WEEK          0.007291    0.044150  ...           0.031725   \n",
       "FLIGHT_NUMBER        0.061010    0.016377  ...          -0.018891   \n",
       "SCHEDULED_DEPARTURE -0.081496    0.912232  ...           0.731240   \n",
       "DEPARTURE_TIME      -0.070081    0.966477  ...           0.734970   \n",
       "DEPARTURE_DELAY      0.061905    0.231399  ...           0.155150   \n",
       "TAXI_OUT             1.000000   -0.043114  ...          -0.062325   \n",
       "WHEELS_OFF          -0.043114    1.000000  ...           0.744697   \n",
       "SCHEDULED_TIME       0.096191   -0.038173  ...           0.035598   \n",
       "ELAPSED_TIME         0.215749   -0.038217  ...           0.031223   \n",
       "AIR_TIME             0.077234   -0.031646  ...           0.041368   \n",
       "DISTANCE             0.057871   -0.027282  ...           0.044615   \n",
       "WHEELS_ON           -0.045096    0.642358  ...           0.799303   \n",
       "TAXI_IN              0.009041   -0.015089  ...          -0.001440   \n",
       "SCHEDULED_ARRIVAL   -0.062325    0.744697  ...           1.000000   \n",
       "ARRIVAL_TIME        -0.045611    0.608611  ...           0.771945   \n",
       "ARRIVAL_DELAY        0.245363    0.217344  ...           0.140565   \n",
       "DIVERTED             0.009810    0.006524  ...           0.005992   \n",
       "CANCELLED            0.010763    0.001293  ...          -0.013131   \n",
       "AIR_SYSTEM_DELAY     0.407371   -0.085582  ...          -0.064453   \n",
       "SECURITY_DELAY      -0.008021   -0.013912  ...          -0.008270   \n",
       "AIRLINE_DELAY       -0.024674   -0.017376  ...          -0.050435   \n",
       "LATE_AIRCRAFT_DELAY -0.129879    0.223010  ...           0.146386   \n",
       "WEATHER_DELAY        0.119412   -0.055273  ...          -0.043930   \n",
       "\n",
       "                     ARRIVAL_TIME  ARRIVAL_DELAY  DIVERTED  CANCELLED  \\\n",
       "YEAR                          NaN            NaN       NaN        NaN   \n",
       "MONTH                         NaN            NaN       NaN        NaN   \n",
       "DAY                     -0.091687       0.070770  0.004847  -0.006000   \n",
       "DAY_OF_WEEK              0.011477       0.067520 -0.000709  -0.006409   \n",
       "FLIGHT_NUMBER            0.000753       0.056163  0.007155   0.090008   \n",
       "SCHEDULED_DEPARTURE      0.552653       0.154951  0.002515  -0.002631   \n",
       "DEPARTURE_TIME           0.584615       0.223654  0.006576   0.009679   \n",
       "DEPARTURE_DELAY          0.079639       0.950838  0.020787   0.030862   \n",
       "TAXI_OUT                -0.045611       0.245363  0.009810   0.010763   \n",
       "WHEELS_OFF               0.608611       0.217344  0.006524   0.001293   \n",
       "SCHEDULED_TIME           0.014674      -0.022043  0.015000  -0.074084   \n",
       "ELAPSED_TIME             0.016711       0.048448       NaN        NaN   \n",
       "AIR_TIME                 0.022517      -0.002742       NaN        NaN   \n",
       "DISTANCE                 0.017333      -0.023821  0.013996  -0.076796   \n",
       "WHEELS_ON                0.959177       0.088131 -0.000289        NaN   \n",
       "TAXI_IN                  0.012095       0.170073  0.006915        NaN   \n",
       "SCHEDULED_ARRIVAL        0.771945       0.140565  0.005992  -0.013131   \n",
       "ARRIVAL_TIME             1.000000       0.076791 -0.002489        NaN   \n",
       "ARRIVAL_DELAY            0.076791       1.000000       NaN        NaN   \n",
       "DIVERTED                -0.002489            NaN  1.000000  -0.007413   \n",
       "CANCELLED                     NaN            NaN -0.007413   1.000000   \n",
       "AIR_SYSTEM_DELAY        -0.052236       0.259700       NaN        NaN   \n",
       "SECURITY_DELAY          -0.014825       0.006070       NaN        NaN   \n",
       "AIRLINE_DELAY           -0.057557       0.592718       NaN        NaN   \n",
       "LATE_AIRCRAFT_DELAY      0.050115       0.572956       NaN        NaN   \n",
       "WEATHER_DELAY           -0.058355       0.235906       NaN        NaN   \n",
       "\n",
       "                     AIR_SYSTEM_DELAY  SECURITY_DELAY  AIRLINE_DELAY  \\\n",
       "YEAR                              NaN             NaN            NaN   \n",
       "MONTH                             NaN             NaN            NaN   \n",
       "DAY                          0.097693       -0.010550      -0.001603   \n",
       "DAY_OF_WEEK                 -0.019626        0.008156       0.003648   \n",
       "FLIGHT_NUMBER               -0.032564       -0.007260       0.023770   \n",
       "SCHEDULED_DEPARTURE         -0.112393       -0.017957      -0.054419   \n",
       "DEPARTURE_TIME              -0.093096       -0.012820      -0.013304   \n",
       "DEPARTURE_DELAY              0.085794        0.008040       0.606954   \n",
       "TAXI_OUT                     0.407371       -0.008021      -0.024674   \n",
       "WHEELS_OFF                  -0.085582       -0.013912      -0.017376   \n",
       "SCHEDULED_TIME               0.056865        0.009740       0.032593   \n",
       "ELAPSED_TIME                 0.190842        0.007724       0.009438   \n",
       "AIR_TIME                     0.072436        0.010442       0.022433   \n",
       "DISTANCE                     0.041963        0.011547       0.030500   \n",
       "WHEELS_ON                   -0.049010       -0.012903      -0.056574   \n",
       "TAXI_IN                      0.299436       -0.005075      -0.051595   \n",
       "SCHEDULED_ARRIVAL           -0.064453       -0.008270      -0.050435   \n",
       "ARRIVAL_TIME                -0.052236       -0.014825      -0.057557   \n",
       "ARRIVAL_DELAY                0.259700        0.006070       0.592718   \n",
       "DIVERTED                          NaN             NaN            NaN   \n",
       "CANCELLED                         NaN             NaN            NaN   \n",
       "AIR_SYSTEM_DELAY             1.000000       -0.014622      -0.106087   \n",
       "SECURITY_DELAY              -0.014622        1.000000      -0.009884   \n",
       "AIRLINE_DELAY               -0.106087       -0.009884       1.000000   \n",
       "LATE_AIRCRAFT_DELAY         -0.136411       -0.012136      -0.084750   \n",
       "WEATHER_DELAY                0.019507        0.000274      -0.056336   \n",
       "\n",
       "                     LATE_AIRCRAFT_DELAY  WEATHER_DELAY  \n",
       "YEAR                                 NaN            NaN  \n",
       "MONTH                                NaN            NaN  \n",
       "DAY                             0.033213       0.061960  \n",
       "DAY_OF_WEEK                     0.033729      -0.050835  \n",
       "FLIGHT_NUMBER                   0.076581       0.004246  \n",
       "SCHEDULED_DEPARTURE             0.186286      -0.042004  \n",
       "DEPARTURE_TIME                  0.247325      -0.046406  \n",
       "DEPARTURE_DELAY                 0.605289       0.210402  \n",
       "TAXI_OUT                       -0.129879       0.119412  \n",
       "WHEELS_OFF                      0.223010      -0.055273  \n",
       "SCHEDULED_TIME                 -0.084673      -0.001975  \n",
       "ELAPSED_TIME                   -0.118290       0.014470  \n",
       "AIR_TIME                       -0.096358      -0.006582  \n",
       "DISTANCE                       -0.086155      -0.010430  \n",
       "WHEELS_ON                       0.054199      -0.057202  \n",
       "TAXI_IN                        -0.004698      -0.018058  \n",
       "SCHEDULED_ARRIVAL               0.146386      -0.043930  \n",
       "ARRIVAL_TIME                    0.050115      -0.058355  \n",
       "ARRIVAL_DELAY                   0.572956       0.235906  \n",
       "DIVERTED                             NaN            NaN  \n",
       "CANCELLED                            NaN            NaN  \n",
       "AIR_SYSTEM_DELAY               -0.136411       0.019507  \n",
       "SECURITY_DELAY                 -0.012136       0.000274  \n",
       "AIRLINE_DELAY                  -0.084750      -0.056336  \n",
       "LATE_AIRCRAFT_DELAY             1.000000      -0.021674  \n",
       "WEATHER_DELAY                  -0.021674       1.000000  \n",
       "\n",
       "[26 rows x 26 columns]"
      ]
     },
     "execution_count": 8,
     "metadata": {},
     "output_type": "execute_result"
    }
   ],
   "source": [
    "df.corr()"
   ]
  },
  {
   "cell_type": "code",
   "execution_count": 9,
   "metadata": {
    "execution": {
     "iopub.execute_input": "2021-01-11T16:56:58.096849Z",
     "iopub.status.busy": "2021-01-11T16:56:58.087603Z",
     "iopub.status.idle": "2021-01-11T16:56:58.316670Z",
     "shell.execute_reply": "2021-01-11T16:56:58.315578Z"
    },
    "papermill": {
     "duration": 0.278187,
     "end_time": "2021-01-11T16:56:58.316804",
     "exception": false,
     "start_time": "2021-01-11T16:56:58.038617",
     "status": "completed"
    },
    "tags": []
   },
   "outputs": [
    {
     "data": {
      "text/plain": [
       "ARRIVAL_DELAY          1.000000\n",
       "DEPARTURE_DELAY        0.950838\n",
       "AIRLINE_DELAY          0.592718\n",
       "LATE_AIRCRAFT_DELAY    0.572956\n",
       "AIR_SYSTEM_DELAY       0.259700\n",
       "TAXI_OUT               0.245363\n",
       "WEATHER_DELAY          0.235906\n",
       "DEPARTURE_TIME         0.223654\n",
       "WHEELS_OFF             0.217344\n",
       "TAXI_IN                0.170073\n",
       "SCHEDULED_DEPARTURE    0.154951\n",
       "SCHEDULED_ARRIVAL      0.140565\n",
       "WHEELS_ON              0.088131\n",
       "ARRIVAL_TIME           0.076791\n",
       "DAY                    0.070770\n",
       "DAY_OF_WEEK            0.067520\n",
       "FLIGHT_NUMBER          0.056163\n",
       "ELAPSED_TIME           0.048448\n",
       "SECURITY_DELAY         0.006070\n",
       "AIR_TIME              -0.002742\n",
       "SCHEDULED_TIME        -0.022043\n",
       "DISTANCE              -0.023821\n",
       "MONTH                       NaN\n",
       "DIVERTED                    NaN\n",
       "CANCELLED                   NaN\n",
       "Name: ARRIVAL_DELAY, dtype: float64"
      ]
     },
     "execution_count": 9,
     "metadata": {},
     "output_type": "execute_result"
    }
   ],
   "source": [
    "df[df.columns[1:]].corr()['ARRIVAL_DELAY'][:].sort_values(ascending=False)"
   ]
  },
  {
   "cell_type": "markdown",
   "metadata": {
    "papermill": {
     "duration": 0.030049,
     "end_time": "2021-01-11T16:56:58.376878",
     "exception": false,
     "start_time": "2021-01-11T16:56:58.346829",
     "status": "completed"
    },
    "tags": []
   },
   "source": [
    "JointPlot are a good method to visualise the realtion among features."
   ]
  },
  {
   "cell_type": "code",
   "execution_count": 10,
   "metadata": {
    "execution": {
     "iopub.execute_input": "2021-01-11T16:56:58.442638Z",
     "iopub.status.busy": "2021-01-11T16:56:58.442019Z",
     "iopub.status.idle": "2021-01-11T16:56:59.631028Z",
     "shell.execute_reply": "2021-01-11T16:56:59.630078Z"
    },
    "papermill": {
     "duration": 1.224394,
     "end_time": "2021-01-11T16:56:59.631141",
     "exception": false,
     "start_time": "2021-01-11T16:56:58.406747",
     "status": "completed"
    },
    "tags": []
   },
   "outputs": [
    {
     "data": {
      "text/plain": [
       "<seaborn.axisgrid.JointGrid at 0x7f7ac332ea90>"
      ]
     },
     "execution_count": 10,
     "metadata": {},
     "output_type": "execute_result"
    },
    {
     "data": {
      "image/png": "[encoded data removed]",
      "text/plain": [
       "<Figure size 432x432 with 3 Axes>"
      ]
     },
     "metadata": {
      "needs_background": "light"
     },
     "output_type": "display_data"
    }
   ],
   "source": [
    "sns.jointplot(data=df, x=\"SCHEDULED_ARRIVAL\", y=\"ARRIVAL_TIME\")\n"
   ]
  },
  {
   "cell_type": "code",
   "execution_count": 11,
   "metadata": {
    "execution": {
     "iopub.execute_input": "2021-01-11T16:56:59.703775Z",
     "iopub.status.busy": "2021-01-11T16:56:59.702851Z",
     "iopub.status.idle": "2021-01-11T16:56:59.707686Z",
     "shell.execute_reply": "2021-01-11T16:56:59.706879Z"
    },
    "papermill": {
     "duration": 0.044353,
     "end_time": "2021-01-11T16:56:59.707855",
     "exception": false,
     "start_time": "2021-01-11T16:56:59.663502",
     "status": "completed"
    },
    "tags": []
   },
   "outputs": [
    {
     "data": {
      "text/plain": [
       "Index(['YEAR', 'MONTH', 'DAY', 'DAY_OF_WEEK', 'AIRLINE', 'FLIGHT_NUMBER',\n",
       "       'TAIL_NUMBER', 'ORIGIN_AIRPORT', 'DESTINATION_AIRPORT',\n",
       "       'SCHEDULED_DEPARTURE', 'DEPARTURE_TIME', 'DEPARTURE_DELAY', 'TAXI_OUT',\n",
       "       'WHEELS_OFF', 'SCHEDULED_TIME', 'ELAPSED_TIME', 'AIR_TIME', 'DISTANCE',\n",
       "       'WHEELS_ON', 'TAXI_IN', 'SCHEDULED_ARRIVAL', 'ARRIVAL_TIME',\n",
       "       'ARRIVAL_DELAY', 'DIVERTED', 'CANCELLED', 'CANCELLATION_REASON',\n",
       "       'AIR_SYSTEM_DELAY', 'SECURITY_DELAY', 'AIRLINE_DELAY',\n",
       "       'LATE_AIRCRAFT_DELAY', 'WEATHER_DELAY'],\n",
       "      dtype='object')"
      ]
     },
     "execution_count": 11,
     "metadata": {},
     "output_type": "execute_result"
    }
   ],
   "source": [
    "df.columns"
   ]
  },
  {
   "cell_type": "markdown",
   "metadata": {
    "papermill": {
     "duration": 0.032748,
     "end_time": "2021-01-11T16:56:59.777726",
     "exception": false,
     "start_time": "2021-01-11T16:56:59.744978",
     "status": "completed"
    },
    "tags": []
   },
   "source": [
    "Drop Features with less correlation and more NaN values."
   ]
  },
  {
   "cell_type": "code",
   "execution_count": 12,
   "metadata": {
    "execution": {
     "iopub.execute_input": "2021-01-11T16:56:59.856914Z",
     "iopub.status.busy": "2021-01-11T16:56:59.852103Z",
     "iopub.status.idle": "2021-01-11T16:56:59.860143Z",
     "shell.execute_reply": "2021-01-11T16:56:59.859539Z"
    },
    "papermill": {
     "duration": 0.049822,
     "end_time": "2021-01-11T16:56:59.860243",
     "exception": false,
     "start_time": "2021-01-11T16:56:59.810421",
     "status": "completed"
    },
    "tags": []
   },
   "outputs": [],
   "source": [
    "df=df.drop(['YEAR','FLIGHT_NUMBER','AIRLINE','DISTANCE','TAIL_NUMBER','TAXI_OUT', 'SCHEDULED_TIME','DEPARTURE_TIME','WHEELS_OFF','ELAPSED_TIME', 'AIR_TIME','WHEELS_ON','DAY_OF_WEEK','TAXI_IN','CANCELLATION_REASON'], axis=1)"
   ]
  },
  {
   "cell_type": "code",
   "execution_count": 13,
   "metadata": {
    "execution": {
     "iopub.execute_input": "2021-01-11T16:56:59.932104Z",
     "iopub.status.busy": "2021-01-11T16:56:59.931236Z",
     "iopub.status.idle": "2021-01-11T16:56:59.934409Z",
     "shell.execute_reply": "2021-01-11T16:56:59.935074Z"
    },
    "papermill": {
     "duration": 0.042444,
     "end_time": "2021-01-11T16:56:59.935234",
     "exception": false,
     "start_time": "2021-01-11T16:56:59.892790",
     "status": "completed"
    },
    "tags": []
   },
   "outputs": [
    {
     "data": {
      "text/plain": [
       "Index(['MONTH', 'DAY', 'ORIGIN_AIRPORT', 'DESTINATION_AIRPORT',\n",
       "       'SCHEDULED_DEPARTURE', 'DEPARTURE_DELAY', 'SCHEDULED_ARRIVAL',\n",
       "       'ARRIVAL_TIME', 'ARRIVAL_DELAY', 'DIVERTED', 'CANCELLED',\n",
       "       'AIR_SYSTEM_DELAY', 'SECURITY_DELAY', 'AIRLINE_DELAY',\n",
       "       'LATE_AIRCRAFT_DELAY', 'WEATHER_DELAY'],\n",
       "      dtype='object')"
      ]
     },
     "execution_count": 13,
     "metadata": {},
     "output_type": "execute_result"
    }
   ],
   "source": [
    "df.columns"
   ]
  },
  {
   "cell_type": "markdown",
   "metadata": {
    "papermill": {
     "duration": 0.049918,
     "end_time": "2021-01-11T16:57:00.035758",
     "exception": false,
     "start_time": "2021-01-11T16:56:59.985840",
     "status": "completed"
    },
    "tags": []
   },
   "source": [
    "checking NULL values which needs to be imputed"
   ]
  },
  {
   "cell_type": "code",
   "execution_count": 14,
   "metadata": {
    "execution": {
     "iopub.execute_input": "2021-01-11T16:57:00.139713Z",
     "iopub.status.busy": "2021-01-11T16:57:00.138919Z",
     "iopub.status.idle": "2021-01-11T16:57:00.157870Z",
     "shell.execute_reply": "2021-01-11T16:57:00.158636Z"
    },
    "papermill": {
     "duration": 0.07323,
     "end_time": "2021-01-11T16:57:00.158805",
     "exception": false,
     "start_time": "2021-01-11T16:57:00.085575",
     "status": "completed"
    },
    "tags": []
   },
   "outputs": [
    {
     "data": {
      "text/plain": [
       "MONTH                      0\n",
       "DAY                        0\n",
       "ORIGIN_AIRPORT             0\n",
       "DESTINATION_AIRPORT        0\n",
       "SCHEDULED_DEPARTURE        0\n",
       "DEPARTURE_DELAY         2298\n",
       "SCHEDULED_ARRIVAL          0\n",
       "ARRIVAL_TIME            2440\n",
       "ARRIVAL_DELAY           2613\n",
       "DIVERTED                   0\n",
       "CANCELLED                  0\n",
       "AIR_SYSTEM_DELAY       65375\n",
       "SECURITY_DELAY         65375\n",
       "AIRLINE_DELAY          65375\n",
       "LATE_AIRCRAFT_DELAY    65375\n",
       "WEATHER_DELAY          65375\n",
       "dtype: int64"
      ]
     },
     "execution_count": 14,
     "metadata": {},
     "output_type": "execute_result"
    }
   ],
   "source": [
    "df.isna().sum()"
   ]
  },
  {
   "cell_type": "code",
   "execution_count": 15,
   "metadata": {
    "execution": {
     "iopub.execute_input": "2021-01-11T16:57:00.263994Z",
     "iopub.status.busy": "2021-01-11T16:57:00.262664Z",
     "iopub.status.idle": "2021-01-11T16:57:00.283201Z",
     "shell.execute_reply": "2021-01-11T16:57:00.282329Z"
    },
    "papermill": {
     "duration": 0.074067,
     "end_time": "2021-01-11T16:57:00.283361",
     "exception": false,
     "start_time": "2021-01-11T16:57:00.209294",
     "status": "completed"
    },
    "tags": []
   },
   "outputs": [
    {
     "data": {
      "text/plain": [
       "MONTH                      0\n",
       "DAY                        0\n",
       "ORIGIN_AIRPORT             0\n",
       "DESTINATION_AIRPORT        0\n",
       "SCHEDULED_DEPARTURE        0\n",
       "DEPARTURE_DELAY         2298\n",
       "SCHEDULED_ARRIVAL          0\n",
       "ARRIVAL_TIME            2440\n",
       "ARRIVAL_DELAY           2613\n",
       "DIVERTED                   0\n",
       "CANCELLED                  0\n",
       "AIR_SYSTEM_DELAY       65375\n",
       "SECURITY_DELAY         65375\n",
       "AIRLINE_DELAY          65375\n",
       "LATE_AIRCRAFT_DELAY    65375\n",
       "WEATHER_DELAY          65375\n",
       "dtype: int64"
      ]
     },
     "execution_count": 15,
     "metadata": {},
     "output_type": "execute_result"
    }
   ],
   "source": [
    "df.isna().sum()"
   ]
  },
  {
   "cell_type": "code",
   "execution_count": 16,
   "metadata": {
    "execution": {
     "iopub.execute_input": "2021-01-11T16:57:00.404378Z",
     "iopub.status.busy": "2021-01-11T16:57:00.403409Z",
     "iopub.status.idle": "2021-01-11T16:57:00.412319Z",
     "shell.execute_reply": "2021-01-11T16:57:00.411608Z"
    },
    "papermill": {
     "duration": 0.074984,
     "end_time": "2021-01-11T16:57:00.412467",
     "exception": false,
     "start_time": "2021-01-11T16:57:00.337483",
     "status": "completed"
    },
    "tags": []
   },
   "outputs": [
    {
     "data": {
      "text/plain": [
       "MONTH                      0\n",
       "DAY                        0\n",
       "ORIGIN_AIRPORT             0\n",
       "DESTINATION_AIRPORT        0\n",
       "SCHEDULED_DEPARTURE        0\n",
       "DEPARTURE_DELAY         2298\n",
       "SCHEDULED_ARRIVAL          0\n",
       "ARRIVAL_TIME            2440\n",
       "ARRIVAL_DELAY           2613\n",
       "DIVERTED                   0\n",
       "CANCELLED                  0\n",
       "AIR_SYSTEM_DELAY       65375\n",
       "SECURITY_DELAY         65375\n",
       "AIRLINE_DELAY          65375\n",
       "LATE_AIRCRAFT_DELAY    65375\n",
       "WEATHER_DELAY          65375\n",
       "dtype: int64"
      ]
     },
     "execution_count": 16,
     "metadata": {},
     "output_type": "execute_result"
    }
   ],
   "source": [
    "df.isna().sum()"
   ]
  },
  {
   "cell_type": "markdown",
   "metadata": {
    "papermill": {
     "duration": 0.05138,
     "end_time": "2021-01-11T16:57:00.515397",
     "exception": false,
     "start_time": "2021-01-11T16:57:00.464017",
     "status": "completed"
    },
    "tags": []
   },
   "source": [
    "Now filling the values with \"mean\" of that features, although it is not very efficient but for now it will work"
   ]
  },
  {
   "cell_type": "code",
   "execution_count": 17,
   "metadata": {
    "execution": {
     "iopub.execute_input": "2021-01-11T16:57:00.622018Z",
     "iopub.status.busy": "2021-01-11T16:57:00.621190Z",
     "iopub.status.idle": "2021-01-11T16:57:01.869387Z",
     "shell.execute_reply": "2021-01-11T16:57:01.868520Z"
    },
    "papermill": {
     "duration": 1.302584,
     "end_time": "2021-01-11T16:57:01.869522",
     "exception": false,
     "start_time": "2021-01-11T16:57:00.566938",
     "status": "completed"
    },
    "tags": []
   },
   "outputs": [],
   "source": [
    "df=df.fillna(df.mean())"
   ]
  },
  {
   "cell_type": "code",
   "execution_count": 18,
   "metadata": {
    "execution": {
     "iopub.execute_input": "2021-01-11T16:57:01.980379Z",
     "iopub.status.busy": "2021-01-11T16:57:01.979572Z",
     "iopub.status.idle": "2021-01-11T16:57:02.836015Z",
     "shell.execute_reply": "2021-01-11T16:57:02.836736Z"
    },
    "papermill": {
     "duration": 0.914744,
     "end_time": "2021-01-11T16:57:02.836898",
     "exception": false,
     "start_time": "2021-01-11T16:57:01.922154",
     "status": "completed"
    },
    "tags": []
   },
   "outputs": [
    {
     "data": {
      "image/png": "[encoded data removed]",
      "text/plain": [
       "<Figure size 1296x1296 with 2 Axes>"
      ]
     },
     "metadata": {
      "needs_background": "light"
     },
     "output_type": "display_data"
    }
   ],
   "source": [
    "corrMatrix = df.corr()\n",
    "fig, ax = plt.subplots(figsize=(18,18))\n",
    "sns.heatmap(corrMatrix, annot=True, ax=ax,fmt=\".2g\")\n",
    "plt.show()"
   ]
  },
  {
   "cell_type": "markdown",
   "metadata": {
    "papermill": {
     "duration": 0.055547,
     "end_time": "2021-01-11T16:57:02.949111",
     "exception": false,
     "start_time": "2021-01-11T16:57:02.893564",
     "status": "completed"
    },
    "tags": []
   },
   "source": [
    "# Forming Target Column"
   ]
  },
  {
   "cell_type": "markdown",
   "metadata": {
    "papermill": {
     "duration": 0.055181,
     "end_time": "2021-01-11T16:57:03.061246",
     "exception": false,
     "start_time": "2021-01-11T16:57:03.006065",
     "status": "completed"
    },
    "tags": []
   },
   "source": [
    "Imputing the target column for the dataset. Condition being if the plane arrival delay is greater than 15. It is delayed."
   ]
  },
  {
   "cell_type": "code",
   "execution_count": 19,
   "metadata": {
    "execution": {
     "iopub.execute_input": "2021-01-11T16:57:03.199170Z",
     "iopub.status.busy": "2021-01-11T16:57:03.183489Z",
     "iopub.status.idle": "2021-01-11T16:57:03.246118Z",
     "shell.execute_reply": "2021-01-11T16:57:03.245241Z"
    },
    "papermill": {
     "duration": 0.128834,
     "end_time": "2021-01-11T16:57:03.246252",
     "exception": false,
     "start_time": "2021-01-11T16:57:03.117418",
     "status": "completed"
    },
    "tags": []
   },
   "outputs": [],
   "source": [
    "result=[]\n",
    "for row in df['ARRIVAL_DELAY']:\n",
    "    if row > 15:\n",
    "        result.append(1)\n",
    "    else:\n",
    "        result.append(0)  \n",
    "df['result'] = result"
   ]
  },
  {
   "cell_type": "markdown",
   "metadata": {
    "papermill": {
     "duration": 0.04254,
     "end_time": "2021-01-11T16:57:03.345424",
     "exception": false,
     "start_time": "2021-01-11T16:57:03.302884",
     "status": "completed"
    },
    "tags": []
   },
   "source": [
    "Lets see if our column has been added or not and how does the data look like"
   ]
  },
  {
   "cell_type": "code",
   "execution_count": 20,
   "metadata": {
    "execution": {
     "iopub.execute_input": "2021-01-11T16:57:03.431229Z",
     "iopub.status.busy": "2021-01-11T16:57:03.430675Z",
     "iopub.status.idle": "2021-01-11T16:57:03.436810Z",
     "shell.execute_reply": "2021-01-11T16:57:03.435884Z"
    },
    "papermill": {
     "duration": 0.051915,
     "end_time": "2021-01-11T16:57:03.436965",
     "exception": false,
     "start_time": "2021-01-11T16:57:03.385050",
     "status": "completed"
    },
    "tags": []
   },
   "outputs": [
    {
     "name": "stdout",
     "output_type": "stream",
     "text": [
      "result\n"
     ]
    },
    {
     "data": {
      "text/plain": [
       "0    0\n",
       "1    0\n",
       "2    0\n",
       "3    0\n",
       "4    0\n",
       "5    0\n",
       "6    0\n",
       "7    0\n",
       "8    0\n",
       "9    0\n",
       "Name: result, dtype: int64"
      ]
     },
     "execution_count": 20,
     "metadata": {},
     "output_type": "execute_result"
    }
   ],
   "source": [
    "print(df.columns[-1])\n",
    "df['result'].head(10)"
   ]
  },
  {
   "cell_type": "code",
   "execution_count": 21,
   "metadata": {
    "execution": {
     "iopub.execute_input": "2021-01-11T16:57:03.523630Z",
     "iopub.status.busy": "2021-01-11T16:57:03.522702Z",
     "iopub.status.idle": "2021-01-11T16:57:03.530964Z",
     "shell.execute_reply": "2021-01-11T16:57:03.530219Z"
    },
    "papermill": {
     "duration": 0.053431,
     "end_time": "2021-01-11T16:57:03.531079",
     "exception": false,
     "start_time": "2021-01-11T16:57:03.477648",
     "status": "completed"
    },
    "tags": []
   },
   "outputs": [
    {
     "data": {
      "text/plain": [
       "0    63779\n",
       "1    36221\n",
       "Name: result, dtype: int64"
      ]
     },
     "execution_count": 21,
     "metadata": {},
     "output_type": "execute_result"
    }
   ],
   "source": [
    "#for me 1 is delayed and otherwise\n",
    "df['result'].value_counts()"
   ]
  },
  {
   "cell_type": "markdown",
   "metadata": {
    "papermill": {
     "duration": 0.039596,
     "end_time": "2021-01-11T16:57:03.610825",
     "exception": false,
     "start_time": "2021-01-11T16:57:03.571229",
     "status": "completed"
    },
    "tags": []
   },
   "source": [
    "# Feature selection and Model Building"
   ]
  },
  {
   "cell_type": "code",
   "execution_count": 22,
   "metadata": {
    "execution": {
     "iopub.execute_input": "2021-01-11T16:57:03.698126Z",
     "iopub.status.busy": "2021-01-11T16:57:03.696955Z",
     "iopub.status.idle": "2021-01-11T16:57:03.706502Z",
     "shell.execute_reply": "2021-01-11T16:57:03.705639Z"
    },
    "papermill": {
     "duration": 0.055608,
     "end_time": "2021-01-11T16:57:03.706636",
     "exception": false,
     "start_time": "2021-01-11T16:57:03.651028",
     "status": "completed"
    },
    "tags": []
   },
   "outputs": [],
   "source": [
    "df=df.drop(['ORIGIN_AIRPORT', 'DESTINATION_AIRPORT', 'ARRIVAL_TIME', 'ARRIVAL_DELAY'],axis=1)"
   ]
  },
  {
   "cell_type": "code",
   "execution_count": 23,
   "metadata": {
    "execution": {
     "iopub.execute_input": "2021-01-11T16:57:03.828887Z",
     "iopub.status.busy": "2021-01-11T16:57:03.828068Z",
     "iopub.status.idle": "2021-01-11T16:57:03.921979Z",
     "shell.execute_reply": "2021-01-11T16:57:03.922801Z"
    },
    "papermill": {
     "duration": 0.158405,
     "end_time": "2021-01-11T16:57:03.922962",
     "exception": false,
     "start_time": "2021-01-11T16:57:03.764557",
     "status": "completed"
    },
    "tags": []
   },
   "outputs": [
    {
     "ename": "TypeError",
     "evalue": "'(slice(None, None, None), slice(None, -1, None))' is an invalid key",
     "output_type": "error",
     "traceback": [
      "\u001b[0;31m---------------------------------------------------------------------------\u001b[0m",
      "\u001b[0;31mTypeError\u001b[0m                                 Traceback (most recent call last)",
      "\u001b[0;32m<ipython-input-23-3df69f0ce2e3>\u001b[0m in \u001b[0;36m<module>\u001b[0;34m\u001b[0m\n\u001b[0;32m----> 1\u001b[0;31m \u001b[0mx\u001b[0m\u001b[0;34m,\u001b[0m \u001b[0my\u001b[0m \u001b[0;34m=\u001b[0m \u001b[0mdf\u001b[0m\u001b[0;34m[\u001b[0m\u001b[0;34m:\u001b[0m\u001b[0;34m,\u001b[0m\u001b[0;34m:\u001b[0m\u001b[0;34m-\u001b[0m\u001b[0;36m1\u001b[0m\u001b[0;34m]\u001b[0m\u001b[0;34m,\u001b[0m \u001b[0mdf\u001b[0m\u001b[0;34m[\u001b[0m\u001b[0;34m:\u001b[0m\u001b[0;34m,\u001b[0m\u001b[0;34m-\u001b[0m\u001b[0;36m1\u001b[0m\u001b[0;34m]\u001b[0m\u001b[0;34m\u001b[0m\u001b[0;34m\u001b[0m\u001b[0m\n\u001b[0m\u001b[1;32m      2\u001b[0m \u001b[0mx_train\u001b[0m\u001b[0;34m,\u001b[0m \u001b[0mx_test\u001b[0m\u001b[0;34m,\u001b[0m \u001b[0my_train\u001b[0m\u001b[0;34m,\u001b[0m \u001b[0my_test\u001b[0m \u001b[0;34m=\u001b[0m \u001b[0mtrain_test_split\u001b[0m\u001b[0;34m(\u001b[0m\u001b[0mx\u001b[0m\u001b[0;34m,\u001b[0m \u001b[0my\u001b[0m\u001b[0;34m,\u001b[0m \u001b[0mtest_size\u001b[0m\u001b[0;34m=\u001b[0m\u001b[0;36m0.30\u001b[0m\u001b[0;34m,\u001b[0m \u001b[0mrandom_state\u001b[0m\u001b[0;34m=\u001b[0m\u001b[0;36m42\u001b[0m\u001b[0;34m)\u001b[0m\u001b[0;34m\u001b[0m\u001b[0;34m\u001b[0m\u001b[0m\n",
      "\u001b[0;32m/opt/conda/lib/python3.7/site-packages/pandas/core/frame.py\u001b[0m in \u001b[0;36m__getitem__\u001b[0;34m(self, key)\u001b[0m\n\u001b[1;32m   2904\u001b[0m             \u001b[0;32mif\u001b[0m \u001b[0mself\u001b[0m\u001b[0;34m.\u001b[0m\u001b[0mcolumns\u001b[0m\u001b[0;34m.\u001b[0m\u001b[0mnlevels\u001b[0m \u001b[0;34m>\u001b[0m \u001b[0;36m1\u001b[0m\u001b[0;34m:\u001b[0m\u001b[0;34m\u001b[0m\u001b[0;34m\u001b[0m\u001b[0m\n\u001b[1;32m   2905\u001b[0m                 \u001b[0;32mreturn\u001b[0m \u001b[0mself\u001b[0m\u001b[0;34m.\u001b[0m\u001b[0m_getitem_multilevel\u001b[0m\u001b[0;34m(\u001b[0m\u001b[0mkey\u001b[0m\u001b[0;34m)\u001b[0m\u001b[0;34m\u001b[0m\u001b[0;34m\u001b[0m\u001b[0m\n\u001b[0;32m-> 2906\u001b[0;31m             \u001b[0mindexer\u001b[0m \u001b[0;34m=\u001b[0m \u001b[0mself\u001b[0m\u001b[0;34m.\u001b[0m\u001b[0mcolumns\u001b[0m\u001b[0;34m.\u001b[0m\u001b[0mget_loc\u001b[0m\u001b[0;34m(\u001b[0m\u001b[0mkey\u001b[0m\u001b[0;34m)\u001b[0m\u001b[0;34m\u001b[0m\u001b[0;34m\u001b[0m\u001b[0m\n\u001b[0m\u001b[1;32m   2907\u001b[0m             \u001b[0;32mif\u001b[0m \u001b[0mis_integer\u001b[0m\u001b[0;34m(\u001b[0m\u001b[0mindexer\u001b[0m\u001b[0;34m)\u001b[0m\u001b[0;34m:\u001b[0m\u001b[0;34m\u001b[0m\u001b[0;34m\u001b[0m\u001b[0m\n\u001b[1;32m   2908\u001b[0m                 \u001b[0mindexer\u001b[0m \u001b[0;34m=\u001b[0m \u001b[0;34m[\u001b[0m\u001b[0mindexer\u001b[0m\u001b[0;34m]\u001b[0m\u001b[0;34m\u001b[0m\u001b[0;34m\u001b[0m\u001b[0m\n",
      "\u001b[0;32m/opt/conda/lib/python3.7/site-packages/pandas/core/indexes/base.py\u001b[0m in \u001b[0;36mget_loc\u001b[0;34m(self, key, method, tolerance)\u001b[0m\n\u001b[1;32m   2896\u001b[0m             \u001b[0mcasted_key\u001b[0m \u001b[0;34m=\u001b[0m \u001b[0mself\u001b[0m\u001b[0;34m.\u001b[0m\u001b[0m_maybe_cast_indexer\u001b[0m\u001b[0;34m(\u001b[0m\u001b[0mkey\u001b[0m\u001b[0;34m)\u001b[0m\u001b[0;34m\u001b[0m\u001b[0;34m\u001b[0m\u001b[0m\n\u001b[1;32m   2897\u001b[0m             \u001b[0;32mtry\u001b[0m\u001b[0;34m:\u001b[0m\u001b[0;34m\u001b[0m\u001b[0;34m\u001b[0m\u001b[0m\n\u001b[0;32m-> 2898\u001b[0;31m                 \u001b[0;32mreturn\u001b[0m \u001b[0mself\u001b[0m\u001b[0;34m.\u001b[0m\u001b[0m_engine\u001b[0m\u001b[0;34m.\u001b[0m\u001b[0mget_loc\u001b[0m\u001b[0;34m(\u001b[0m\u001b[0mcasted_key\u001b[0m\u001b[0;34m)\u001b[0m\u001b[0;34m\u001b[0m\u001b[0;34m\u001b[0m\u001b[0m\n\u001b[0m\u001b[1;32m   2899\u001b[0m             \u001b[0;32mexcept\u001b[0m \u001b[0mKeyError\u001b[0m \u001b[0;32mas\u001b[0m \u001b[0merr\u001b[0m\u001b[0;34m:\u001b[0m\u001b[0;34m\u001b[0m\u001b[0;34m\u001b[0m\u001b[0m\n\u001b[1;32m   2900\u001b[0m                 \u001b[0;32mraise\u001b[0m \u001b[0mKeyError\u001b[0m\u001b[0;34m(\u001b[0m\u001b[0mkey\u001b[0m\u001b[0;34m)\u001b[0m \u001b[0;32mfrom\u001b[0m \u001b[0merr\u001b[0m\u001b[0;34m\u001b[0m\u001b[0;34m\u001b[0m\u001b[0m\n",
      "\u001b[0;32mpandas/_libs/index.pyx\u001b[0m in \u001b[0;36mpandas._libs.index.IndexEngine.get_loc\u001b[0;34m()\u001b[0m\n",
      "\u001b[0;32mpandas/_libs/index.pyx\u001b[0m in \u001b[0;36mpandas._libs.index.IndexEngine.get_loc\u001b[0;34m()\u001b[0m\n",
      "\u001b[0;31mTypeError\u001b[0m: '(slice(None, None, None), slice(None, -1, None))' is an invalid key"
     ]
    }
   ],
   "source": [
    "x, y = df[:,:-1], df[:,-1]\n",
    "x_train, x_test, y_train, y_test = train_test_split(x, y, test_size=0.30, random_state=42)"
   ]
  },
  {
   "cell_type": "code",
   "execution_count": 24,
   "metadata": {
    "execution": {
     "iopub.execute_input": "2021-01-11T16:57:04.057513Z",
     "iopub.status.busy": "2021-01-11T16:57:04.056414Z",
     "iopub.status.idle": "2021-01-11T16:57:04.061812Z",
     "shell.execute_reply": "2021-01-11T16:57:04.061094Z"
    },
    "papermill": {
     "duration": 0.076133,
     "end_time": "2021-01-11T16:57:04.061957",
     "exception": false,
     "start_time": "2021-01-11T16:57:03.985824",
     "status": "completed"
    },
    "tags": []
   },
   "outputs": [
    {
     "ename": "NameError",
     "evalue": "name 'x_train' is not defined",
     "output_type": "error",
     "traceback": [
      "\u001b[0;31m---------------------------------------------------------------------------\u001b[0m",
      "\u001b[0;31mNameError\u001b[0m                                 Traceback (most recent call last)",
      "\u001b[0;32m<ipython-input-24-fae816bb0a26>\u001b[0m in \u001b[0;36m<module>\u001b[0;34m\u001b[0m\n\u001b[0;32m----> 1\u001b[0;31m \u001b[0mprint\u001b[0m\u001b[0;34m(\u001b[0m\u001b[0mx_train\u001b[0m\u001b[0;34m.\u001b[0m\u001b[0mshape\u001b[0m\u001b[0;34m+\u001b[0m\u001b[0mx_test\u001b[0m\u001b[0;34m.\u001b[0m\u001b[0mshape\u001b[0m\u001b[0;34m)\u001b[0m\u001b[0;34m\u001b[0m\u001b[0;34m\u001b[0m\u001b[0m\n\u001b[0m",
      "\u001b[0;31mNameError\u001b[0m: name 'x_train' is not defined"
     ]
    }
   ],
   "source": [
    "print(x_train.shape+x_test.shape)"
   ]
  },
  {
   "cell_type": "code",
   "execution_count": 25,
   "metadata": {
    "execution": {
     "iopub.execute_input": "2021-01-11T16:57:04.197104Z",
     "iopub.status.busy": "2021-01-11T16:57:04.196477Z",
     "iopub.status.idle": "2021-01-11T16:57:04.201136Z",
     "shell.execute_reply": "2021-01-11T16:57:04.200502Z"
    },
    "papermill": {
     "duration": 0.078112,
     "end_time": "2021-01-11T16:57:04.201251",
     "exception": false,
     "start_time": "2021-01-11T16:57:04.123139",
     "status": "completed"
    },
    "tags": []
   },
   "outputs": [
    {
     "ename": "NameError",
     "evalue": "name 'x_train' is not defined",
     "output_type": "error",
     "traceback": [
      "\u001b[0;31m---------------------------------------------------------------------------\u001b[0m",
      "\u001b[0;31mNameError\u001b[0m                                 Traceback (most recent call last)",
      "\u001b[0;32m<ipython-input-25-f72e9bcc2787>\u001b[0m in \u001b[0;36m<module>\u001b[0;34m\u001b[0m\n\u001b[1;32m      1\u001b[0m \u001b[0;31m#Scaling using sklearn predefined standardscalar\u001b[0m\u001b[0;34m\u001b[0m\u001b[0;34m\u001b[0m\u001b[0;34m\u001b[0m\u001b[0m\n\u001b[0;32m----> 2\u001b[0;31m \u001b[0mscaled_features\u001b[0m \u001b[0;34m=\u001b[0m \u001b[0mStandardScaler\u001b[0m\u001b[0;34m(\u001b[0m\u001b[0;34m)\u001b[0m\u001b[0;34m.\u001b[0m\u001b[0mfit_transform\u001b[0m\u001b[0;34m(\u001b[0m\u001b[0mx_train\u001b[0m\u001b[0;34m,\u001b[0m \u001b[0mx_test\u001b[0m\u001b[0;34m)\u001b[0m\u001b[0;34m\u001b[0m\u001b[0;34m\u001b[0m\u001b[0m\n\u001b[0m",
      "\u001b[0;31mNameError\u001b[0m: name 'x_train' is not defined"
     ]
    }
   ],
   "source": [
    "#Scaling using sklearn predefined standardscalar\n",
    "scaled_features = StandardScaler().fit_transform(x_train, x_test)"
   ]
  },
  {
   "cell_type": "markdown",
   "metadata": {
    "papermill": {
     "duration": 0.041238,
     "end_time": "2021-01-11T16:57:04.284732",
     "exception": false,
     "start_time": "2021-01-11T16:57:04.243494",
     "status": "completed"
    },
    "tags": []
   },
   "source": [
    "# Decision Tree Classifier.\n",
    "\n",
    "as this problem is essentially a classification problem to decide which flight gets delayed which not."
   ]
  },
  {
   "cell_type": "code",
   "execution_count": 26,
   "metadata": {
    "execution": {
     "iopub.execute_input": "2021-01-11T16:57:04.384934Z",
     "iopub.status.busy": "2021-01-11T16:57:04.384002Z",
     "iopub.status.idle": "2021-01-11T16:57:04.390264Z",
     "shell.execute_reply": "2021-01-11T16:57:04.389742Z"
    },
    "papermill": {
     "duration": 0.064287,
     "end_time": "2021-01-11T16:57:04.390394",
     "exception": false,
     "start_time": "2021-01-11T16:57:04.326107",
     "status": "completed"
    },
    "tags": []
   },
   "outputs": [
    {
     "ename": "NameError",
     "evalue": "name 'x_train' is not defined",
     "output_type": "error",
     "traceback": [
      "\u001b[0;31m---------------------------------------------------------------------------\u001b[0m",
      "\u001b[0;31mNameError\u001b[0m                                 Traceback (most recent call last)",
      "\u001b[0;32m<ipython-input-26-b826aed84f34>\u001b[0m in \u001b[0;36m<module>\u001b[0;34m\u001b[0m\n\u001b[1;32m      1\u001b[0m \u001b[0mclf\u001b[0m \u001b[0;34m=\u001b[0m \u001b[0mDecisionTreeClassifier\u001b[0m\u001b[0;34m(\u001b[0m\u001b[0;34m)\u001b[0m\u001b[0;34m\u001b[0m\u001b[0;34m\u001b[0m\u001b[0m\n\u001b[0;32m----> 2\u001b[0;31m \u001b[0mclf\u001b[0m \u001b[0;34m=\u001b[0m \u001b[0mclf\u001b[0m\u001b[0;34m.\u001b[0m\u001b[0mfit\u001b[0m\u001b[0;34m(\u001b[0m\u001b[0mx_train\u001b[0m\u001b[0;34m,\u001b[0m\u001b[0my_train\u001b[0m\u001b[0;34m)\u001b[0m\u001b[0;34m\u001b[0m\u001b[0;34m\u001b[0m\u001b[0m\n\u001b[0m\u001b[1;32m      3\u001b[0m \u001b[0mpred\u001b[0m \u001b[0;34m=\u001b[0m \u001b[0mclf\u001b[0m\u001b[0;34m.\u001b[0m\u001b[0mpredict_proba\u001b[0m\u001b[0;34m(\u001b[0m\u001b[0mx_test\u001b[0m\u001b[0;34m)\u001b[0m\u001b[0;34m\u001b[0m\u001b[0;34m\u001b[0m\u001b[0m\n",
      "\u001b[0;31mNameError\u001b[0m: name 'x_train' is not defined"
     ]
    }
   ],
   "source": [
    "clf = DecisionTreeClassifier()\n",
    "clf = clf.fit(x_train,y_train)\n",
    "pred = clf.predict_proba(x_test)"
   ]
  },
  {
   "cell_type": "code",
   "execution_count": 27,
   "metadata": {
    "execution": {
     "iopub.execute_input": "2021-01-11T16:57:04.490512Z",
     "iopub.status.busy": "2021-01-11T16:57:04.489620Z",
     "iopub.status.idle": "2021-01-11T16:57:04.495739Z",
     "shell.execute_reply": "2021-01-11T16:57:04.495163Z"
    },
    "papermill": {
     "duration": 0.06332,
     "end_time": "2021-01-11T16:57:04.495844",
     "exception": false,
     "start_time": "2021-01-11T16:57:04.432524",
     "status": "completed"
    },
    "tags": []
   },
   "outputs": [
    {
     "ename": "NameError",
     "evalue": "name 'pred' is not defined",
     "output_type": "error",
     "traceback": [
      "\u001b[0;31m---------------------------------------------------------------------------\u001b[0m",
      "\u001b[0;31mNameError\u001b[0m                                 Traceback (most recent call last)",
      "\u001b[0;32m<ipython-input-27-c6fc79dbd350>\u001b[0m in \u001b[0;36m<module>\u001b[0;34m\u001b[0m\n\u001b[0;32m----> 1\u001b[0;31m \u001b[0mpred\u001b[0m\u001b[0;34m\u001b[0m\u001b[0;34m\u001b[0m\u001b[0m\n\u001b[0m",
      "\u001b[0;31mNameError\u001b[0m: name 'pred' is not defined"
     ]
    }
   ],
   "source": [
    "pred"
   ]
  },
  {
   "cell_type": "code",
   "execution_count": 28,
   "metadata": {
    "execution": {
     "iopub.execute_input": "2021-01-11T16:57:04.594237Z",
     "iopub.status.busy": "2021-01-11T16:57:04.592316Z",
     "iopub.status.idle": "2021-01-11T16:57:04.607512Z",
     "shell.execute_reply": "2021-01-11T16:57:04.606839Z"
    },
    "papermill": {
     "duration": 0.069199,
     "end_time": "2021-01-11T16:57:04.607622",
     "exception": false,
     "start_time": "2021-01-11T16:57:04.538423",
     "status": "completed"
    },
    "tags": []
   },
   "outputs": [
    {
     "ename": "NameError",
     "evalue": "name 'y_test' is not defined",
     "output_type": "error",
     "traceback": [
      "\u001b[0;31m---------------------------------------------------------------------------\u001b[0m",
      "\u001b[0;31mNameError\u001b[0m                                 Traceback (most recent call last)",
      "\u001b[0;32m<ipython-input-28-24eb68ceb0c0>\u001b[0m in \u001b[0;36m<module>\u001b[0;34m\u001b[0m\n\u001b[0;32m----> 1\u001b[0;31m \u001b[0mauc_score\u001b[0m \u001b[0;34m=\u001b[0m \u001b[0mroc_auc_score\u001b[0m\u001b[0;34m(\u001b[0m\u001b[0my_test\u001b[0m\u001b[0;34m,\u001b[0m \u001b[0mpred\u001b[0m\u001b[0;34m[\u001b[0m\u001b[0;34m:\u001b[0m\u001b[0;34m,\u001b[0m\u001b[0;36m1\u001b[0m\u001b[0;34m]\u001b[0m\u001b[0;34m)\u001b[0m\u001b[0;34m\u001b[0m\u001b[0;34m\u001b[0m\u001b[0m\n\u001b[0m\u001b[1;32m      2\u001b[0m \u001b[0mprint\u001b[0m\u001b[0;34m(\u001b[0m\u001b[0;34m'AUC Score of Model is: {} %'\u001b[0m\u001b[0;34m.\u001b[0m\u001b[0mformat\u001b[0m\u001b[0;34m(\u001b[0m\u001b[0mround\u001b[0m\u001b[0;34m(\u001b[0m\u001b[0mauc_score\u001b[0m\u001b[0;34m*\u001b[0m\u001b[0;36m100\u001b[0m\u001b[0;34m,\u001b[0m\u001b[0;36m2\u001b[0m\u001b[0;34m)\u001b[0m\u001b[0;34m)\u001b[0m\u001b[0;34m)\u001b[0m\u001b[0;34m\u001b[0m\u001b[0;34m\u001b[0m\u001b[0m\n",
      "\u001b[0;31mNameError\u001b[0m: name 'y_test' is not defined"
     ]
    }
   ],
   "source": [
    "auc_score = roc_auc_score(y_test, pred[:,1])\n",
    "print('AUC Score of Model is: {} %'.format(round(auc_score*100,2)))"
   ]
  },
  {
   "cell_type": "markdown",
   "metadata": {
    "papermill": {
     "duration": 0.043053,
     "end_time": "2021-01-11T16:57:04.694244",
     "exception": false,
     "start_time": "2021-01-11T16:57:04.651191",
     "status": "completed"
    },
    "tags": []
   },
   "source": [
    "# Prediction on Test Data"
   ]
  },
  {
   "cell_type": "code",
   "execution_count": 29,
   "metadata": {
    "execution": {
     "iopub.execute_input": "2021-01-11T16:57:04.787765Z",
     "iopub.status.busy": "2021-01-11T16:57:04.787104Z",
     "iopub.status.idle": "2021-01-11T16:57:04.802166Z",
     "shell.execute_reply": "2021-01-11T16:57:04.801574Z"
    },
    "papermill": {
     "duration": 0.065008,
     "end_time": "2021-01-11T16:57:04.802275",
     "exception": false,
     "start_time": "2021-01-11T16:57:04.737267",
     "status": "completed"
    },
    "tags": []
   },
   "outputs": [
    {
     "ename": "NameError",
     "evalue": "name 'y_test' is not defined",
     "output_type": "error",
     "traceback": [
      "\u001b[0;31m---------------------------------------------------------------------------\u001b[0m",
      "\u001b[0;31mNameError\u001b[0m                                 Traceback (most recent call last)",
      "\u001b[0;32m<ipython-input-29-d721a2c6cc4a>\u001b[0m in \u001b[0;36m<module>\u001b[0;34m\u001b[0m\n\u001b[0;32m----> 1\u001b[0;31m \u001b[0mresult1\u001b[0m \u001b[0;34m=\u001b[0m \u001b[0mconfusion_matrix\u001b[0m\u001b[0;34m(\u001b[0m\u001b[0my_test\u001b[0m\u001b[0;34m,\u001b[0m \u001b[0mpred\u001b[0m\u001b[0;34m[\u001b[0m\u001b[0;34m:\u001b[0m\u001b[0;34m,\u001b[0m\u001b[0;36m1\u001b[0m\u001b[0;34m]\u001b[0m\u001b[0;34m)\u001b[0m\u001b[0;34m\u001b[0m\u001b[0;34m\u001b[0m\u001b[0m\n\u001b[0m\u001b[1;32m      2\u001b[0m \u001b[0mprint\u001b[0m\u001b[0;34m(\u001b[0m\u001b[0;34m\"Confusion Matrix:\"\u001b[0m\u001b[0;34m)\u001b[0m\u001b[0;34m\u001b[0m\u001b[0;34m\u001b[0m\u001b[0m\n\u001b[1;32m      3\u001b[0m \u001b[0mprint\u001b[0m\u001b[0;34m(\u001b[0m\u001b[0mresult1\u001b[0m\u001b[0;34m)\u001b[0m\u001b[0;34m\u001b[0m\u001b[0;34m\u001b[0m\u001b[0m\n\u001b[1;32m      4\u001b[0m \u001b[0mprint\u001b[0m\u001b[0;34m(\u001b[0m\u001b[0;34m''\u001b[0m\u001b[0;34m)\u001b[0m\u001b[0;34m\u001b[0m\u001b[0;34m\u001b[0m\u001b[0m\n\u001b[1;32m      5\u001b[0m \u001b[0mresult2\u001b[0m \u001b[0;34m=\u001b[0m \u001b[0mclassification_report\u001b[0m\u001b[0;34m(\u001b[0m\u001b[0my_test\u001b[0m\u001b[0;34m,\u001b[0m \u001b[0mpred\u001b[0m\u001b[0;34m[\u001b[0m\u001b[0;34m:\u001b[0m\u001b[0;34m,\u001b[0m\u001b[0;36m1\u001b[0m\u001b[0;34m]\u001b[0m\u001b[0;34m)\u001b[0m\u001b[0;34m\u001b[0m\u001b[0;34m\u001b[0m\u001b[0m\n",
      "\u001b[0;31mNameError\u001b[0m: name 'y_test' is not defined"
     ]
    }
   ],
   "source": [
    "result1 = confusion_matrix(y_test, pred[:,1])\n",
    "print(\"Confusion Matrix:\")\n",
    "print(result1)\n",
    "print('')\n",
    "result2 = classification_report(y_test, pred[:,1])\n",
    "print(\"Classification Report:\",)\n",
    "print (result2)\n",
    "result3 = accuracy_score(y_test,pred[:,1])\n",
    "print(\"Accuracy:\",result3)\n"
   ]
  },
  {
   "cell_type": "code",
   "execution_count": 30,
   "metadata": {
    "execution": {
     "iopub.execute_input": "2021-01-11T16:57:04.908777Z",
     "iopub.status.busy": "2021-01-11T16:57:04.908109Z",
     "iopub.status.idle": "2021-01-11T16:57:04.912429Z",
     "shell.execute_reply": "2021-01-11T16:57:04.911809Z"
    },
    "papermill": {
     "duration": 0.065542,
     "end_time": "2021-01-11T16:57:04.912538",
     "exception": false,
     "start_time": "2021-01-11T16:57:04.846996",
     "status": "completed"
    },
    "tags": []
   },
   "outputs": [
    {
     "ename": "NameError",
     "evalue": "name 'result3' is not defined",
     "output_type": "error",
     "traceback": [
      "\u001b[0;31m---------------------------------------------------------------------------\u001b[0m",
      "\u001b[0;31mNameError\u001b[0m                                 Traceback (most recent call last)",
      "\u001b[0;32m<ipython-input-30-827ad375ebdd>\u001b[0m in \u001b[0;36m<module>\u001b[0;34m\u001b[0m\n\u001b[0;32m----> 1\u001b[0;31m \u001b[0mprint\u001b[0m\u001b[0;34m(\u001b[0m\u001b[0;34m'Accuracy of Model on test data is: {} %'\u001b[0m\u001b[0;34m.\u001b[0m\u001b[0mformat\u001b[0m\u001b[0;34m(\u001b[0m\u001b[0mround\u001b[0m\u001b[0;34m(\u001b[0m\u001b[0mresult3\u001b[0m\u001b[0;34m*\u001b[0m\u001b[0;36m100\u001b[0m\u001b[0;34m,\u001b[0m\u001b[0;36m2\u001b[0m\u001b[0;34m)\u001b[0m\u001b[0;34m)\u001b[0m\u001b[0;34m)\u001b[0m\u001b[0;34m\u001b[0m\u001b[0;34m\u001b[0m\u001b[0m\n\u001b[0m",
      "\u001b[0;31mNameError\u001b[0m: name 'result3' is not defined"
     ]
    }
   ],
   "source": [
    "print('Accuracy of Model on test data is: {} %'.format(round(result3*100,2)))"
   ]
  },
  {
   "cell_type": "markdown",
   "metadata": {
    "papermill": {
     "duration": 0.04396,
     "end_time": "2021-01-11T16:57:05.001031",
     "exception": false,
     "start_time": "2021-01-11T16:57:04.957071",
     "status": "completed"
    },
    "tags": []
   },
   "source": [
    "ROC curve visual plotting."
   ]
  },
  {
   "cell_type": "code",
   "execution_count": 31,
   "metadata": {
    "execution": {
     "iopub.execute_input": "2021-01-11T16:57:05.121825Z",
     "iopub.status.busy": "2021-01-11T16:57:05.102599Z",
     "iopub.status.idle": "2021-01-11T16:57:05.253990Z",
     "shell.execute_reply": "2021-01-11T16:57:05.253304Z"
    },
    "papermill": {
     "duration": 0.208599,
     "end_time": "2021-01-11T16:57:05.254104",
     "exception": false,
     "start_time": "2021-01-11T16:57:05.045505",
     "status": "completed"
    },
    "tags": []
   },
   "outputs": [
    {
     "ename": "NameError",
     "evalue": "name 'x_test' is not defined",
     "output_type": "error",
     "traceback": [
      "\u001b[0;31m---------------------------------------------------------------------------\u001b[0m",
      "\u001b[0;31mNameError\u001b[0m                                 Traceback (most recent call last)",
      "\u001b[0;32m<ipython-input-31-d497e061d9b3>\u001b[0m in \u001b[0;36m<module>\u001b[0;34m\u001b[0m\n\u001b[1;32m      1\u001b[0m \u001b[0mplt\u001b[0m\u001b[0;34m.\u001b[0m\u001b[0msubplots\u001b[0m\u001b[0;34m(\u001b[0m\u001b[0;36m1\u001b[0m\u001b[0;34m,\u001b[0m \u001b[0mfigsize\u001b[0m\u001b[0;34m=\u001b[0m\u001b[0;34m(\u001b[0m\u001b[0;36m10\u001b[0m\u001b[0;34m,\u001b[0m\u001b[0;36m6\u001b[0m\u001b[0;34m)\u001b[0m\u001b[0;34m)\u001b[0m\u001b[0;34m\u001b[0m\u001b[0;34m\u001b[0m\u001b[0m\n\u001b[1;32m      2\u001b[0m \u001b[0mplt\u001b[0m\u001b[0;34m.\u001b[0m\u001b[0mtitle\u001b[0m\u001b[0;34m(\u001b[0m\u001b[0;34m'Receiver Operating Characteristic - DecisionTree'\u001b[0m\u001b[0;34m)\u001b[0m\u001b[0;34m\u001b[0m\u001b[0;34m\u001b[0m\u001b[0m\n\u001b[0;32m----> 3\u001b[0;31m \u001b[0my_pred_proba\u001b[0m \u001b[0;34m=\u001b[0m \u001b[0mclf\u001b[0m\u001b[0;34m.\u001b[0m\u001b[0mpredict_proba\u001b[0m\u001b[0;34m(\u001b[0m\u001b[0mx_test\u001b[0m\u001b[0;34m)\u001b[0m\u001b[0;34m[\u001b[0m\u001b[0;34m:\u001b[0m\u001b[0;34m:\u001b[0m\u001b[0;34m,\u001b[0m\u001b[0;36m1\u001b[0m\u001b[0;34m]\u001b[0m\u001b[0;34m\u001b[0m\u001b[0;34m\u001b[0m\u001b[0m\n\u001b[0m\u001b[1;32m      4\u001b[0m \u001b[0mfpr\u001b[0m\u001b[0;34m,\u001b[0m \u001b[0mtpr\u001b[0m\u001b[0;34m,\u001b[0m \u001b[0m_\u001b[0m \u001b[0;34m=\u001b[0m \u001b[0mmetrics\u001b[0m\u001b[0;34m.\u001b[0m\u001b[0mroc_curve\u001b[0m\u001b[0;34m(\u001b[0m\u001b[0my_test\u001b[0m\u001b[0;34m,\u001b[0m  \u001b[0my_pred_proba\u001b[0m\u001b[0;34m)\u001b[0m\u001b[0;34m\u001b[0m\u001b[0;34m\u001b[0m\u001b[0m\n\u001b[1;32m      5\u001b[0m \u001b[0mplt\u001b[0m\u001b[0;34m.\u001b[0m\u001b[0mplot\u001b[0m\u001b[0;34m(\u001b[0m\u001b[0mfpr\u001b[0m\u001b[0;34m,\u001b[0m \u001b[0mtpr\u001b[0m\u001b[0;34m)\u001b[0m\u001b[0;34m\u001b[0m\u001b[0;34m\u001b[0m\u001b[0m\n",
      "\u001b[0;31mNameError\u001b[0m: name 'x_test' is not defined"
     ]
    },
    {
     "data": {
      "image/png": "[encoded data removed]",
      "text/plain": [
       "<Figure size 720x432 with 1 Axes>"
      ]
     },
     "metadata": {
      "needs_background": "light"
     },
     "output_type": "display_data"
    }
   ],
   "source": [
    "plt.subplots(1, figsize=(10,6))\n",
    "plt.title('Receiver Operating Characteristic - DecisionTree')\n",
    "y_pred_proba = clf.predict_proba(x_test)[::,1]\n",
    "fpr, tpr, _ = metrics.roc_curve(y_test,  y_pred_proba)\n",
    "plt.plot(fpr, tpr)\n",
    "plt.plot([0, 1], ls=\"--\")\n",
    "plt.plot([0, 0], [1, 0] , c=\".7\"), plt.plot([1, 1] , c=\".7\")\n",
    "plt.ylabel('True Positive Rate')\n",
    "plt.xlabel('False Positive Rate')\n",
    "plt.show()"
   ]
  },
  {
   "cell_type": "markdown",
   "metadata": {
    "papermill": {
     "duration": 0.045877,
     "end_time": "2021-01-11T16:57:05.345947",
     "exception": false,
     "start_time": "2021-01-11T16:57:05.300070",
     "status": "completed"
    },
    "tags": []
   },
   "source": [
    "Thank You"
   ]
  }
 ],
 "metadata": {
  "kernelspec": {
   "display_name": "Python 3",
   "language": "python",
   "name": "python3"
  },
  "language_info": {
   "codemirror_mode": {
    "name": "ipython",
    "version": 3
   },
   "file_extension": ".py",
   "mimetype": "text/x-python",
   "name": "python",
   "nbconvert_exporter": "python",
   "pygments_lexer": "ipython3",
   "version": "3.7.6"
  },
  "papermill": {
   "duration": 38.512039,
   "end_time": "2021-01-11T16:57:05.504288",
   "environment_variables": {},
   "exception": null,
   "input_path": "__notebook__.ipynb",
   "output_path": "__notebook__.ipynb",
   "parameters": {},
   "start_time": "2021-01-11T16:56:26.992249",
   "version": "2.1.0"
  }
 },
 "nbformat": 4,
 "nbformat_minor": 4
}
